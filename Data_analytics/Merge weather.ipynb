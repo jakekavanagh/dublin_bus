{
 "cells": [
  {
   "cell_type": "code",
   "execution_count": 1,
   "metadata": {
    "collapsed": true
   },
   "outputs": [],
   "source": [
    "import pandas as pd\n",
    "import numpy as np\n",
    "import matplotlib.pyplot as plt\n",
    "import matplotlib.patches as mpatches\n",
    "import matplotlib.font_manager as fm\n",
    "import matplotlib\n",
    "import pickle\n",
    "import timeit\n",
    "import h5py\n",
    "import math\n",
    "import os\n",
    "import json\n",
    "import seaborn as sns\n",
    "%matplotlib inline\n",
    "import datetime\n",
    "from os import listdir\n",
    "from os.path import isfile, join"
   ]
  },
  {
   "cell_type": "code",
   "execution_count": 7,
   "metadata": {
    "collapsed": true
   },
   "outputs": [],
   "source": [
    "df = pd.read_csv('/Users/jakek/Documents/Computer Science/Semester 3/Data Analytics/updated_for_modelling.csv', low_memory=False)\n"
   ]
  },
  {
   "cell_type": "code",
   "execution_count": 8,
   "metadata": {
    "collapsed": false
   },
   "outputs": [],
   "source": [
    "df1 = pd.read_csv('/Users/jakek/Documents/Computer Science/Semester 3/Data Analytics/weather_csv_hourly.csv', low_memory=False)\n"
   ]
  },
  {
   "cell_type": "code",
   "execution_count": 12,
   "metadata": {
    "collapsed": false
   },
   "outputs": [
    {
     "data": {
      "text/html": [
       "<div>\n",
       "<table border=\"1\" class=\"dataframe\">\n",
       "  <thead>\n",
       "    <tr style=\"text-align: right;\">\n",
       "      <th></th>\n",
       "      <th>DateTime</th>\n",
       "      <th>Summary</th>\n",
       "      <th>Temp</th>\n",
       "      <th>Rain</th>\n",
       "      <th>Wind_Speed</th>\n",
       "    </tr>\n",
       "  </thead>\n",
       "  <tbody>\n",
       "    <tr>\n",
       "      <th>0</th>\n",
       "      <td>2012-11-06 00:00:00</td>\n",
       "      <td>Partly Cloudy</td>\n",
       "      <td>2</td>\n",
       "      <td>0</td>\n",
       "      <td>16</td>\n",
       "    </tr>\n",
       "    <tr>\n",
       "      <th>1</th>\n",
       "      <td>2012-11-06 01:00:00</td>\n",
       "      <td>Partly Cloudy</td>\n",
       "      <td>3</td>\n",
       "      <td>0</td>\n",
       "      <td>22</td>\n",
       "    </tr>\n",
       "    <tr>\n",
       "      <th>2</th>\n",
       "      <td>2012-11-06 02:00:00</td>\n",
       "      <td>Scattered Clouds</td>\n",
       "      <td>3</td>\n",
       "      <td>0</td>\n",
       "      <td>20</td>\n",
       "    </tr>\n",
       "    <tr>\n",
       "      <th>3</th>\n",
       "      <td>2012-11-06 03:00:00</td>\n",
       "      <td>Mostly Cloudy</td>\n",
       "      <td>4</td>\n",
       "      <td>0</td>\n",
       "      <td>25</td>\n",
       "    </tr>\n",
       "    <tr>\n",
       "      <th>4</th>\n",
       "      <td>2012-11-06 04:00:00</td>\n",
       "      <td>Mostly Cloudy</td>\n",
       "      <td>5</td>\n",
       "      <td>0</td>\n",
       "      <td>22</td>\n",
       "    </tr>\n",
       "  </tbody>\n",
       "</table>\n",
       "</div>"
      ],
      "text/plain": [
       "              DateTime           Summary  Temp  Rain  Wind_Speed\n",
       "0  2012-11-06 00:00:00     Partly Cloudy     2     0          16\n",
       "1  2012-11-06 01:00:00     Partly Cloudy     3     0          22\n",
       "2  2012-11-06 02:00:00  Scattered Clouds     3     0          20\n",
       "3  2012-11-06 03:00:00     Mostly Cloudy     4     0          25\n",
       "4  2012-11-06 04:00:00     Mostly Cloudy     5     0          22"
      ]
     },
     "execution_count": 12,
     "metadata": {},
     "output_type": "execute_result"
    }
   ],
   "source": [
    "df1.head()"
   ]
  },
  {
   "cell_type": "code",
   "execution_count": 16,
   "metadata": {
    "collapsed": true
   },
   "outputs": [],
   "source": [
    "df1.drop('DateTime', axis=1, inplace=True)\n"
   ]
  },
  {
   "cell_type": "code",
   "execution_count": 14,
   "metadata": {
    "collapsed": false
   },
   "outputs": [],
   "source": [
    "df1['Date'], df1['Time'] = df1['DateTime'].str.split(' ', 1).str\n"
   ]
  },
  {
   "cell_type": "code",
   "execution_count": 28,
   "metadata": {
    "collapsed": false
   },
   "outputs": [
    {
     "data": {
      "text/html": [
       "<div>\n",
       "<table border=\"1\" class=\"dataframe\">\n",
       "  <thead>\n",
       "    <tr style=\"text-align: right;\">\n",
       "      <th></th>\n",
       "      <th>VehicleJourneyID</th>\n",
       "      <th>TimeFrame</th>\n",
       "      <th>StopID</th>\n",
       "      <th>Timestamp</th>\n",
       "      <th>AtStop</th>\n",
       "      <th>Avg</th>\n",
       "      <th>TimeToNextStop</th>\n",
       "      <th>Avg2</th>\n",
       "      <th>Day</th>\n",
       "      <th>Hour</th>\n",
       "    </tr>\n",
       "  </thead>\n",
       "  <tbody>\n",
       "    <tr>\n",
       "      <th>0</th>\n",
       "      <td>4608.0</td>\n",
       "      <td>2013-01-02</td>\n",
       "      <td>44</td>\n",
       "      <td>1.357123e+15</td>\n",
       "      <td>0.0</td>\n",
       "      <td>73.081818</td>\n",
       "      <td>60.0</td>\n",
       "      <td>68.454545</td>\n",
       "      <td>Wednesday</td>\n",
       "      <td>10</td>\n",
       "    </tr>\n",
       "    <tr>\n",
       "      <th>1</th>\n",
       "      <td>4608.0</td>\n",
       "      <td>2013-01-02</td>\n",
       "      <td>45</td>\n",
       "      <td>1.357123e+15</td>\n",
       "      <td>0.0</td>\n",
       "      <td>79.920139</td>\n",
       "      <td>20.0</td>\n",
       "      <td>80.500000</td>\n",
       "      <td>Wednesday</td>\n",
       "      <td>10</td>\n",
       "    </tr>\n",
       "    <tr>\n",
       "      <th>2</th>\n",
       "      <td>4608.0</td>\n",
       "      <td>2013-01-02</td>\n",
       "      <td>46</td>\n",
       "      <td>1.357123e+15</td>\n",
       "      <td>1.0</td>\n",
       "      <td>62.323077</td>\n",
       "      <td>81.0</td>\n",
       "      <td>76.884615</td>\n",
       "      <td>Wednesday</td>\n",
       "      <td>10</td>\n",
       "    </tr>\n",
       "    <tr>\n",
       "      <th>3</th>\n",
       "      <td>4608.0</td>\n",
       "      <td>2013-01-02</td>\n",
       "      <td>47</td>\n",
       "      <td>1.357123e+15</td>\n",
       "      <td>0.0</td>\n",
       "      <td>65.931990</td>\n",
       "      <td>19.0</td>\n",
       "      <td>45.730769</td>\n",
       "      <td>Wednesday</td>\n",
       "      <td>10</td>\n",
       "    </tr>\n",
       "    <tr>\n",
       "      <th>4</th>\n",
       "      <td>4608.0</td>\n",
       "      <td>2013-01-02</td>\n",
       "      <td>48</td>\n",
       "      <td>1.357123e+15</td>\n",
       "      <td>0.0</td>\n",
       "      <td>82.864063</td>\n",
       "      <td>100.0</td>\n",
       "      <td>92.440000</td>\n",
       "      <td>Wednesday</td>\n",
       "      <td>10</td>\n",
       "    </tr>\n",
       "  </tbody>\n",
       "</table>\n",
       "</div>"
      ],
      "text/plain": [
       "   VehicleJourneyID   TimeFrame  StopID     Timestamp  AtStop        Avg  \\\n",
       "0            4608.0  2013-01-02      44  1.357123e+15     0.0  73.081818   \n",
       "1            4608.0  2013-01-02      45  1.357123e+15     0.0  79.920139   \n",
       "2            4608.0  2013-01-02      46  1.357123e+15     1.0  62.323077   \n",
       "3            4608.0  2013-01-02      47  1.357123e+15     0.0  65.931990   \n",
       "4            4608.0  2013-01-02      48  1.357123e+15     0.0  82.864063   \n",
       "\n",
       "   TimeToNextStop       Avg2        Day  Hour  \n",
       "0            60.0  68.454545  Wednesday    10  \n",
       "1            20.0  80.500000  Wednesday    10  \n",
       "2            81.0  76.884615  Wednesday    10  \n",
       "3            19.0  45.730769  Wednesday    10  \n",
       "4           100.0  92.440000  Wednesday    10  "
      ]
     },
     "execution_count": 28,
     "metadata": {},
     "output_type": "execute_result"
    }
   ],
   "source": [
    "df.head()"
   ]
  },
  {
   "cell_type": "code",
   "execution_count": 17,
   "metadata": {
    "collapsed": true
   },
   "outputs": [],
   "source": [
    "df1['Time'], x = df1['Time'].str.split(':', 1).str\n"
   ]
  },
  {
   "cell_type": "code",
   "execution_count": 27,
   "metadata": {
    "collapsed": false
   },
   "outputs": [
    {
     "data": {
      "text/html": [
       "<div>\n",
       "<table border=\"1\" class=\"dataframe\">\n",
       "  <thead>\n",
       "    <tr style=\"text-align: right;\">\n",
       "      <th></th>\n",
       "      <th>Summary</th>\n",
       "      <th>Temp</th>\n",
       "      <th>Rain</th>\n",
       "      <th>Wind_Speed</th>\n",
       "      <th>Date</th>\n",
       "      <th>Time</th>\n",
       "    </tr>\n",
       "  </thead>\n",
       "  <tbody>\n",
       "    <tr>\n",
       "      <th>0</th>\n",
       "      <td>Partly Cloudy</td>\n",
       "      <td>2</td>\n",
       "      <td>0</td>\n",
       "      <td>16</td>\n",
       "      <td>2012-11-06</td>\n",
       "      <td>0</td>\n",
       "    </tr>\n",
       "    <tr>\n",
       "      <th>1</th>\n",
       "      <td>Partly Cloudy</td>\n",
       "      <td>3</td>\n",
       "      <td>0</td>\n",
       "      <td>22</td>\n",
       "      <td>2012-11-06</td>\n",
       "      <td>1</td>\n",
       "    </tr>\n",
       "    <tr>\n",
       "      <th>2</th>\n",
       "      <td>Scattered Clouds</td>\n",
       "      <td>3</td>\n",
       "      <td>0</td>\n",
       "      <td>20</td>\n",
       "      <td>2012-11-06</td>\n",
       "      <td>2</td>\n",
       "    </tr>\n",
       "    <tr>\n",
       "      <th>3</th>\n",
       "      <td>Mostly Cloudy</td>\n",
       "      <td>4</td>\n",
       "      <td>0</td>\n",
       "      <td>25</td>\n",
       "      <td>2012-11-06</td>\n",
       "      <td>3</td>\n",
       "    </tr>\n",
       "    <tr>\n",
       "      <th>4</th>\n",
       "      <td>Mostly Cloudy</td>\n",
       "      <td>5</td>\n",
       "      <td>0</td>\n",
       "      <td>22</td>\n",
       "      <td>2012-11-06</td>\n",
       "      <td>4</td>\n",
       "    </tr>\n",
       "  </tbody>\n",
       "</table>\n",
       "</div>"
      ],
      "text/plain": [
       "            Summary  Temp  Rain  Wind_Speed        Date  Time\n",
       "0     Partly Cloudy     2     0          16  2012-11-06     0\n",
       "1     Partly Cloudy     3     0          22  2012-11-06     1\n",
       "2  Scattered Clouds     3     0          20  2012-11-06     2\n",
       "3     Mostly Cloudy     4     0          25  2012-11-06     3\n",
       "4     Mostly Cloudy     5     0          22  2012-11-06     4"
      ]
     },
     "execution_count": 27,
     "metadata": {},
     "output_type": "execute_result"
    }
   ],
   "source": [
    "df1.head()"
   ]
  },
  {
   "cell_type": "code",
   "execution_count": 26,
   "metadata": {
    "collapsed": false
   },
   "outputs": [],
   "source": [
    "df1['Time'] = df1.Time.astype(int)"
   ]
  },
  {
   "cell_type": "code",
   "execution_count": 29,
   "metadata": {
    "collapsed": true
   },
   "outputs": [],
   "source": [
    "df1 = df1.rename(columns={'Date': 'TimeFrame', 'Time': 'Hour'})\n"
   ]
  },
  {
   "cell_type": "code",
   "execution_count": 30,
   "metadata": {
    "collapsed": false
   },
   "outputs": [
    {
     "data": {
      "text/html": [
       "<div>\n",
       "<table border=\"1\" class=\"dataframe\">\n",
       "  <thead>\n",
       "    <tr style=\"text-align: right;\">\n",
       "      <th></th>\n",
       "      <th>Summary</th>\n",
       "      <th>Temp</th>\n",
       "      <th>Rain</th>\n",
       "      <th>Wind_Speed</th>\n",
       "      <th>TimeFrame</th>\n",
       "      <th>Hour</th>\n",
       "    </tr>\n",
       "  </thead>\n",
       "  <tbody>\n",
       "    <tr>\n",
       "      <th>0</th>\n",
       "      <td>Partly Cloudy</td>\n",
       "      <td>2</td>\n",
       "      <td>0</td>\n",
       "      <td>16</td>\n",
       "      <td>2012-11-06</td>\n",
       "      <td>0</td>\n",
       "    </tr>\n",
       "    <tr>\n",
       "      <th>1</th>\n",
       "      <td>Partly Cloudy</td>\n",
       "      <td>3</td>\n",
       "      <td>0</td>\n",
       "      <td>22</td>\n",
       "      <td>2012-11-06</td>\n",
       "      <td>1</td>\n",
       "    </tr>\n",
       "    <tr>\n",
       "      <th>2</th>\n",
       "      <td>Scattered Clouds</td>\n",
       "      <td>3</td>\n",
       "      <td>0</td>\n",
       "      <td>20</td>\n",
       "      <td>2012-11-06</td>\n",
       "      <td>2</td>\n",
       "    </tr>\n",
       "    <tr>\n",
       "      <th>3</th>\n",
       "      <td>Mostly Cloudy</td>\n",
       "      <td>4</td>\n",
       "      <td>0</td>\n",
       "      <td>25</td>\n",
       "      <td>2012-11-06</td>\n",
       "      <td>3</td>\n",
       "    </tr>\n",
       "    <tr>\n",
       "      <th>4</th>\n",
       "      <td>Mostly Cloudy</td>\n",
       "      <td>5</td>\n",
       "      <td>0</td>\n",
       "      <td>22</td>\n",
       "      <td>2012-11-06</td>\n",
       "      <td>4</td>\n",
       "    </tr>\n",
       "  </tbody>\n",
       "</table>\n",
       "</div>"
      ],
      "text/plain": [
       "            Summary  Temp  Rain  Wind_Speed   TimeFrame  Hour\n",
       "0     Partly Cloudy     2     0          16  2012-11-06     0\n",
       "1     Partly Cloudy     3     0          22  2012-11-06     1\n",
       "2  Scattered Clouds     3     0          20  2012-11-06     2\n",
       "3     Mostly Cloudy     4     0          25  2012-11-06     3\n",
       "4     Mostly Cloudy     5     0          22  2012-11-06     4"
      ]
     },
     "execution_count": 30,
     "metadata": {},
     "output_type": "execute_result"
    }
   ],
   "source": [
    "df1.head()"
   ]
  },
  {
   "cell_type": "code",
   "execution_count": 31,
   "metadata": {
    "collapsed": false
   },
   "outputs": [
    {
     "data": {
      "text/html": [
       "<div>\n",
       "<table border=\"1\" class=\"dataframe\">\n",
       "  <thead>\n",
       "    <tr style=\"text-align: right;\">\n",
       "      <th></th>\n",
       "      <th>VehicleJourneyID</th>\n",
       "      <th>TimeFrame</th>\n",
       "      <th>StopID</th>\n",
       "      <th>Timestamp</th>\n",
       "      <th>AtStop</th>\n",
       "      <th>Avg</th>\n",
       "      <th>TimeToNextStop</th>\n",
       "      <th>Avg2</th>\n",
       "      <th>Day</th>\n",
       "      <th>Hour</th>\n",
       "    </tr>\n",
       "  </thead>\n",
       "  <tbody>\n",
       "    <tr>\n",
       "      <th>0</th>\n",
       "      <td>4608.0</td>\n",
       "      <td>2013-01-02</td>\n",
       "      <td>44</td>\n",
       "      <td>1.357123e+15</td>\n",
       "      <td>0.0</td>\n",
       "      <td>73.081818</td>\n",
       "      <td>60.0</td>\n",
       "      <td>68.454545</td>\n",
       "      <td>Wednesday</td>\n",
       "      <td>10</td>\n",
       "    </tr>\n",
       "    <tr>\n",
       "      <th>1</th>\n",
       "      <td>4608.0</td>\n",
       "      <td>2013-01-02</td>\n",
       "      <td>45</td>\n",
       "      <td>1.357123e+15</td>\n",
       "      <td>0.0</td>\n",
       "      <td>79.920139</td>\n",
       "      <td>20.0</td>\n",
       "      <td>80.500000</td>\n",
       "      <td>Wednesday</td>\n",
       "      <td>10</td>\n",
       "    </tr>\n",
       "    <tr>\n",
       "      <th>2</th>\n",
       "      <td>4608.0</td>\n",
       "      <td>2013-01-02</td>\n",
       "      <td>46</td>\n",
       "      <td>1.357123e+15</td>\n",
       "      <td>1.0</td>\n",
       "      <td>62.323077</td>\n",
       "      <td>81.0</td>\n",
       "      <td>76.884615</td>\n",
       "      <td>Wednesday</td>\n",
       "      <td>10</td>\n",
       "    </tr>\n",
       "    <tr>\n",
       "      <th>3</th>\n",
       "      <td>4608.0</td>\n",
       "      <td>2013-01-02</td>\n",
       "      <td>47</td>\n",
       "      <td>1.357123e+15</td>\n",
       "      <td>0.0</td>\n",
       "      <td>65.931990</td>\n",
       "      <td>19.0</td>\n",
       "      <td>45.730769</td>\n",
       "      <td>Wednesday</td>\n",
       "      <td>10</td>\n",
       "    </tr>\n",
       "    <tr>\n",
       "      <th>4</th>\n",
       "      <td>4608.0</td>\n",
       "      <td>2013-01-02</td>\n",
       "      <td>48</td>\n",
       "      <td>1.357123e+15</td>\n",
       "      <td>0.0</td>\n",
       "      <td>82.864063</td>\n",
       "      <td>100.0</td>\n",
       "      <td>92.440000</td>\n",
       "      <td>Wednesday</td>\n",
       "      <td>10</td>\n",
       "    </tr>\n",
       "  </tbody>\n",
       "</table>\n",
       "</div>"
      ],
      "text/plain": [
       "   VehicleJourneyID   TimeFrame  StopID     Timestamp  AtStop        Avg  \\\n",
       "0            4608.0  2013-01-02      44  1.357123e+15     0.0  73.081818   \n",
       "1            4608.0  2013-01-02      45  1.357123e+15     0.0  79.920139   \n",
       "2            4608.0  2013-01-02      46  1.357123e+15     1.0  62.323077   \n",
       "3            4608.0  2013-01-02      47  1.357123e+15     0.0  65.931990   \n",
       "4            4608.0  2013-01-02      48  1.357123e+15     0.0  82.864063   \n",
       "\n",
       "   TimeToNextStop       Avg2        Day  Hour  \n",
       "0            60.0  68.454545  Wednesday    10  \n",
       "1            20.0  80.500000  Wednesday    10  \n",
       "2            81.0  76.884615  Wednesday    10  \n",
       "3            19.0  45.730769  Wednesday    10  \n",
       "4           100.0  92.440000  Wednesday    10  "
      ]
     },
     "execution_count": 31,
     "metadata": {},
     "output_type": "execute_result"
    }
   ],
   "source": [
    "df.head()"
   ]
  },
  {
   "cell_type": "code",
   "execution_count": 33,
   "metadata": {
    "collapsed": false
   },
   "outputs": [],
   "source": [
    "df2 = pd.merge(df,df1, how='left', on = ['TimeFrame','Hour'])"
   ]
  },
  {
   "cell_type": "code",
   "execution_count": 34,
   "metadata": {
    "collapsed": false
   },
   "outputs": [
    {
     "data": {
      "text/html": [
       "<div>\n",
       "<table border=\"1\" class=\"dataframe\">\n",
       "  <thead>\n",
       "    <tr style=\"text-align: right;\">\n",
       "      <th></th>\n",
       "      <th>VehicleJourneyID</th>\n",
       "      <th>TimeFrame</th>\n",
       "      <th>StopID</th>\n",
       "      <th>Timestamp</th>\n",
       "      <th>AtStop</th>\n",
       "      <th>Avg</th>\n",
       "      <th>TimeToNextStop</th>\n",
       "      <th>Avg2</th>\n",
       "      <th>Day</th>\n",
       "      <th>Hour</th>\n",
       "      <th>Summary</th>\n",
       "      <th>Temp</th>\n",
       "      <th>Rain</th>\n",
       "      <th>Wind_Speed</th>\n",
       "    </tr>\n",
       "  </thead>\n",
       "  <tbody>\n",
       "    <tr>\n",
       "      <th>0</th>\n",
       "      <td>4608.0</td>\n",
       "      <td>2013-01-02</td>\n",
       "      <td>44</td>\n",
       "      <td>1.357123e+15</td>\n",
       "      <td>0.0</td>\n",
       "      <td>73.081818</td>\n",
       "      <td>60.0</td>\n",
       "      <td>68.454545</td>\n",
       "      <td>Wednesday</td>\n",
       "      <td>10</td>\n",
       "      <td>Light Rain</td>\n",
       "      <td>10.0</td>\n",
       "      <td>1.0</td>\n",
       "      <td>31.0</td>\n",
       "    </tr>\n",
       "    <tr>\n",
       "      <th>1</th>\n",
       "      <td>4608.0</td>\n",
       "      <td>2013-01-02</td>\n",
       "      <td>45</td>\n",
       "      <td>1.357123e+15</td>\n",
       "      <td>0.0</td>\n",
       "      <td>79.920139</td>\n",
       "      <td>20.0</td>\n",
       "      <td>80.500000</td>\n",
       "      <td>Wednesday</td>\n",
       "      <td>10</td>\n",
       "      <td>Light Rain</td>\n",
       "      <td>10.0</td>\n",
       "      <td>1.0</td>\n",
       "      <td>31.0</td>\n",
       "    </tr>\n",
       "    <tr>\n",
       "      <th>2</th>\n",
       "      <td>4608.0</td>\n",
       "      <td>2013-01-02</td>\n",
       "      <td>46</td>\n",
       "      <td>1.357123e+15</td>\n",
       "      <td>1.0</td>\n",
       "      <td>62.323077</td>\n",
       "      <td>81.0</td>\n",
       "      <td>76.884615</td>\n",
       "      <td>Wednesday</td>\n",
       "      <td>10</td>\n",
       "      <td>Light Rain</td>\n",
       "      <td>10.0</td>\n",
       "      <td>1.0</td>\n",
       "      <td>31.0</td>\n",
       "    </tr>\n",
       "    <tr>\n",
       "      <th>3</th>\n",
       "      <td>4608.0</td>\n",
       "      <td>2013-01-02</td>\n",
       "      <td>47</td>\n",
       "      <td>1.357123e+15</td>\n",
       "      <td>0.0</td>\n",
       "      <td>65.931990</td>\n",
       "      <td>19.0</td>\n",
       "      <td>45.730769</td>\n",
       "      <td>Wednesday</td>\n",
       "      <td>10</td>\n",
       "      <td>Light Rain</td>\n",
       "      <td>10.0</td>\n",
       "      <td>1.0</td>\n",
       "      <td>31.0</td>\n",
       "    </tr>\n",
       "    <tr>\n",
       "      <th>4</th>\n",
       "      <td>4608.0</td>\n",
       "      <td>2013-01-02</td>\n",
       "      <td>48</td>\n",
       "      <td>1.357123e+15</td>\n",
       "      <td>0.0</td>\n",
       "      <td>82.864063</td>\n",
       "      <td>100.0</td>\n",
       "      <td>92.440000</td>\n",
       "      <td>Wednesday</td>\n",
       "      <td>10</td>\n",
       "      <td>Light Rain</td>\n",
       "      <td>10.0</td>\n",
       "      <td>1.0</td>\n",
       "      <td>31.0</td>\n",
       "    </tr>\n",
       "  </tbody>\n",
       "</table>\n",
       "</div>"
      ],
      "text/plain": [
       "   VehicleJourneyID   TimeFrame  StopID     Timestamp  AtStop        Avg  \\\n",
       "0            4608.0  2013-01-02      44  1.357123e+15     0.0  73.081818   \n",
       "1            4608.0  2013-01-02      45  1.357123e+15     0.0  79.920139   \n",
       "2            4608.0  2013-01-02      46  1.357123e+15     1.0  62.323077   \n",
       "3            4608.0  2013-01-02      47  1.357123e+15     0.0  65.931990   \n",
       "4            4608.0  2013-01-02      48  1.357123e+15     0.0  82.864063   \n",
       "\n",
       "   TimeToNextStop       Avg2        Day  Hour     Summary  Temp  Rain  \\\n",
       "0            60.0  68.454545  Wednesday    10  Light Rain  10.0   1.0   \n",
       "1            20.0  80.500000  Wednesday    10  Light Rain  10.0   1.0   \n",
       "2            81.0  76.884615  Wednesday    10  Light Rain  10.0   1.0   \n",
       "3            19.0  45.730769  Wednesday    10  Light Rain  10.0   1.0   \n",
       "4           100.0  92.440000  Wednesday    10  Light Rain  10.0   1.0   \n",
       "\n",
       "   Wind_Speed  \n",
       "0        31.0  \n",
       "1        31.0  \n",
       "2        31.0  \n",
       "3        31.0  \n",
       "4        31.0  "
      ]
     },
     "execution_count": 34,
     "metadata": {},
     "output_type": "execute_result"
    }
   ],
   "source": [
    "df2.head()"
   ]
  },
  {
   "cell_type": "code",
   "execution_count": 36,
   "metadata": {
    "collapsed": false
   },
   "outputs": [
    {
     "data": {
      "text/plain": [
       "array([10, 11, 12, 13, 14, 15, 16, 17, 18, 19, 20, 21, 22, 23,  9,  8,  7], dtype=int64)"
      ]
     },
     "execution_count": 36,
     "metadata": {},
     "output_type": "execute_result"
    }
   ],
   "source": [
    "df2['Hour'].unique()"
   ]
  },
  {
   "cell_type": "code",
   "execution_count": 37,
   "metadata": {
    "collapsed": true
   },
   "outputs": [],
   "source": [
    "df2.to_csv(\"model3.csv\")"
   ]
  },
  {
   "cell_type": "code",
   "execution_count": null,
   "metadata": {
    "collapsed": true
   },
   "outputs": [],
   "source": []
  }
 ],
 "metadata": {
  "anaconda-cloud": {},
  "kernelspec": {
   "display_name": "Python [conda root]",
   "language": "python",
   "name": "conda-root-py"
  },
  "language_info": {
   "codemirror_mode": {
    "name": "ipython",
    "version": 3
   },
   "file_extension": ".py",
   "mimetype": "text/x-python",
   "name": "python",
   "nbconvert_exporter": "python",
   "pygments_lexer": "ipython3",
   "version": "3.5.2"
  }
 },
 "nbformat": 4,
 "nbformat_minor": 1
}
