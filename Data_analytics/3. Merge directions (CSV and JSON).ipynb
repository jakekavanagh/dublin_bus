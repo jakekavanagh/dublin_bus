{
 "cells": [
  {
   "cell_type": "code",
   "execution_count": 18,
   "metadata": {
    "collapsed": true
   },
   "outputs": [],
   "source": [
    "import pandas as pd\n",
    "import numpy as np\n",
    "import matplotlib.pyplot as plt\n",
    "import matplotlib.patches as mpatches\n",
    "import matplotlib.font_manager as fm\n",
    "import matplotlib\n",
    "import pickle\n",
    "import timeit\n",
    "import h5py\n",
    "import math\n",
    "import os\n",
    "import json\n",
    "# import seaborn as sns\n",
    "%matplotlib inline\n",
    "import datetime\n",
    "from os import listdir\n",
    "import json\n",
    "from os.path import isfile, join"
   ]
  },
  {
   "cell_type": "code",
   "execution_count": 127,
   "metadata": {
    "collapsed": true
   },
   "outputs": [],
   "source": [
    "files = []\n",
    "routes = []\n",
    "for file in  os.listdir(\"./complete dfs/cleaned/\"):\n",
    "    if isfile(\"./complete dfs/cleaned/\"+file):\n",
    "        routes += [file[:3]]\n",
    "        files += [file[:4]]\n",
    "files=set(files)\n",
    "routes = set(routes)"
   ]
  },
  {
   "cell_type": "code",
   "execution_count": 128,
   "metadata": {
    "collapsed": false
   },
   "outputs": [
    {
     "name": "stdout",
     "output_type": "stream",
     "text": [
      "198 103\n"
     ]
    }
   ],
   "source": [
    "print(len(files),  len(routes))"
   ]
  },
  {
   "cell_type": "code",
   "execution_count": 133,
   "metadata": {
    "collapsed": false
   },
   "outputs": [
    {
     "name": "stdout",
     "output_type": "stream",
     "text": [
      "95\n"
     ]
    }
   ],
   "source": [
    "ready = []\n",
    "alone = []\n",
    "for route in routes:\n",
    "    i=0\n",
    "    for file in files:\n",
    "        if route in file[:-1]:\n",
    "            i+=1\n",
    "    if i >1:\n",
    "        ready +=[route]\n",
    "    elif i < 2:\n",
    "        alone += [route]\n",
    "print(len(ready))"
   ]
  },
  {
   "cell_type": "code",
   "execution_count": 134,
   "metadata": {
    "collapsed": false
   },
   "outputs": [
    {
     "name": "stdout",
     "output_type": "stream",
     "text": [
      "['038', '027', '46E', '018', '51X', '27A', '41A', '118']\n"
     ]
    }
   ],
   "source": [
    "print(alone)"
   ]
  },
  {
   "cell_type": "code",
   "execution_count": 130,
   "metadata": {
    "collapsed": false
   },
   "outputs": [
    {
     "name": "stdout",
     "output_type": "stream",
     "text": [
      "{'1841', '1220', '44B0', '0070', '45A0', '0131', '0760', '27B0', '32X0', '33A0', '0261', '1200', '1610', '0400', '33X1', '0610', '1451', '0110', '31B1', '0111', '1111', '0180', '0680', '0531', '32B1', '0270', '65B0', '0440', '2360', '84A0', '40D1', '7471', '46E1', '39A1', '0750', '40B0', '0650', '1421', '0040', '0700', '1850', '66A0', '0590', '1851', '84A1', '0091', '0591', '1401', '2381', '51D0', '0690', '41X1', '1611', '29A1', '0150', '0840', '84X0', '1041', '41B1', '56A0', '67X0', '0751', '66B1', '67X1', '27X0', '41C0', '45A1', '27X1', '68A1', '79A0', '77A0', '0611', '1021', '0790', '33A1', '38A0', '69X1', '0170', '1500', '0080', '0411', '1420', '0530', '56A1', '0391', '0491', '0141', '29A0', '40B1', '46A1', '77A1', '69X0', '1840', '1301', '1201', '66X1', '76A1', '39A0', '33B1', '2201', '44B1', '51D1', '0041', '41X0', '0160', '0171', '2200', '1501', '0011', '0490', '31B0', '0421', '0791', '0420', '1400', '33B0', '0151', '51X1', '32A1', '1161', '2391', '41A1', '0681', '1110', '66X0', '1450', '32X1', '1510', '38A1', '32B0', '0471', '83A0', '0651', '66A1', '0691', '0090', '2380', '0661', '0671', '0841', '0670', '0441', '1140', '40D0', '2390', '0470', '83A1', '0430', '1221', '0660', '0761', '41B0', '65B1', '1141', '0081', '0630', '0631', '0390', '0071', '0140', '0701', '1020', '2700', '0830', '32A0', '79A1', '0010', '0410', '1160', '0831', '84X1', '38B0', '46A0', '1231', '1230', '41C1', '38B1', '2361', '1300', '54A1', '27B1', '76A0', '0260', '1181', '27A1', '1511', '0161', '0401', '1040', '2701', '0431', '0130', '0381', '33X0', '54A0', '66B0', '7470', '68A0'}\n"
     ]
    }
   ],
   "source": [
    "print(files)"
   ]
  },
  {
   "cell_type": "code",
   "execution_count": 131,
   "metadata": {
    "collapsed": true
   },
   "outputs": [
    {
     "name": "stdout",
     "output_type": "stream",
     "text": [
      "075\n",
      "already exists\n",
      "145\n",
      "already exists\n",
      "46A\n",
      "already exists\n",
      "069\n",
      "already exists\n",
      "33A\n",
      "already exists\n",
      "69X\n",
      "040\n",
      "026\n",
      "already exists\n",
      "111\n",
      "063\n",
      "already exists\n",
      "142\n",
      "015\n",
      "016\n",
      "already exists\n",
      "54A\n",
      "84X\n",
      "already exists\n",
      "059\n",
      "122\n",
      "already exists\n",
      "041\n",
      "007\n",
      "066\n",
      "already exists\n",
      "31B\n",
      "already exists\n",
      "77A\n",
      "already exists\n",
      "270\n",
      "already exists\n",
      "41X\n",
      "already exists\n",
      "049\n",
      "009\n",
      "already exists\n",
      "076\n",
      "already exists\n",
      "76A\n",
      "already exists\n",
      "120\n",
      "already exists\n",
      "042\n",
      "184\n",
      "already exists\n",
      "185\n",
      "102\n",
      "already exists\n",
      "41C\n",
      "already exists\n",
      "151\n",
      "already exists\n",
      "236\n",
      "already exists\n",
      "065\n",
      "already exists\n",
      "238\n",
      "already exists\n",
      "070\n",
      "already exists\n",
      "79A\n",
      "already exists\n",
      "56A\n",
      "already exists\n",
      "38A\n",
      "already exists\n",
      "84A\n",
      "already exists\n",
      "044\n",
      "already exists\n",
      "104\n",
      "already exists\n",
      "150\n",
      "011\n",
      "already exists\n",
      "68A\n",
      "already exists\n",
      "008\n",
      "already exists\n",
      "32A\n",
      "already exists\n",
      "140\n",
      "already exists\n",
      "068\n",
      "already exists\n",
      "83A\n",
      "already exists\n",
      "123\n",
      "already exists\n",
      "66B\n",
      "already exists\n",
      "039\n",
      "already exists\n",
      "083\n",
      "already exists\n",
      "001\n",
      "004\n",
      "already exists\n",
      "40B\n",
      "already exists\n",
      "043\n",
      "already exists\n",
      "40D\n",
      "already exists\n",
      "114\n",
      "already exists\n",
      "047\n",
      "41B\n",
      "239\n",
      "already exists\n",
      "053\n",
      "27X\n",
      "already exists\n",
      "45A\n",
      "already exists\n",
      "161\n",
      "already exists\n",
      "39A\n",
      "already exists\n",
      "017\n",
      "33X\n",
      "51D\n",
      "already exists\n",
      "33B\n",
      "already exists\n",
      "220\n",
      "already exists\n",
      "747\n",
      "44B\n",
      "already exists\n",
      "013\n",
      "already exists\n",
      "32B\n",
      "already exists\n",
      "27B\n",
      "already exists\n",
      "014\n",
      "already exists\n",
      "061\n",
      "already exists\n",
      "067\n",
      "already exists\n",
      "66X\n",
      "already exists\n",
      "32X\n",
      "already exists\n",
      "130\n",
      "already exists\n",
      "116\n",
      "already exists\n",
      "29A\n",
      "already exists\n",
      "079\n",
      "already exists\n",
      "084\n",
      "already exists\n",
      "38B\n",
      "already exists\n",
      "67X\n",
      "already exists\n",
      "65B\n",
      "already exists\n",
      "66A\n",
      "already exists\n"
     ]
    }
   ],
   "source": [
    "# for csv\n",
    "\n",
    "for i in ready:\n",
    "    print(i)\n",
    "    if isfile(\"./complete dfs/cleaned and merged/\"+i+'.csv'):\n",
    "        print(\"already exists\")\n",
    "    else:\n",
    "        dfs = []\n",
    "        for file in files:\n",
    "            if i in file[:-1]:\n",
    "                df = pd.read_csv('./complete dfs/cleaned/'+ file+'cleaned.csv', low_memory= False)\n",
    "                dfs+= [df]\n",
    "        size = []\n",
    "        for j in dfs:\n",
    "            size += [j.shape[1]]\n",
    "        if len(set(size)) != 1:\n",
    "            print(\"ERROR\")\n",
    "        else:\n",
    "            complete = pd.concat(dfs)\n",
    "            complete.to_csv(\"./complete dfs/cleaned and merged/\"+i+\".csv\")\n",
    "                \n",
    "        \n",
    "        "
   ]
  },
  {
   "cell_type": "code",
   "execution_count": 132,
   "metadata": {
    "collapsed": false
   },
   "outputs": [
    {
     "name": "stdout",
     "output_type": "stream",
     "text": [
      "075\n",
      "already exists\n",
      "145\n",
      "already exists\n",
      "46A\n",
      "already exists\n",
      "069\n",
      "already exists\n",
      "33A\n",
      "already exists\n",
      "69X\n",
      "040\n",
      "026\n",
      "already exists\n",
      "111\n",
      "063\n",
      "already exists\n",
      "142\n",
      "015\n",
      "016\n",
      "already exists\n",
      "54A\n",
      "84X\n",
      "already exists\n",
      "059\n",
      "122\n",
      "already exists\n",
      "041\n",
      "007\n",
      "066\n",
      "already exists\n",
      "31B\n",
      "already exists\n",
      "77A\n",
      "already exists\n",
      "270\n",
      "already exists\n",
      "41X\n",
      "already exists\n",
      "049\n",
      "009\n",
      "already exists\n",
      "076\n",
      "already exists\n",
      "76A\n",
      "already exists\n",
      "120\n",
      "already exists\n",
      "042\n",
      "184\n",
      "already exists\n",
      "185\n",
      "102\n",
      "already exists\n",
      "41C\n",
      "already exists\n",
      "151\n",
      "already exists\n",
      "236\n",
      "already exists\n",
      "065\n",
      "already exists\n",
      "238\n",
      "already exists\n",
      "070\n",
      "already exists\n",
      "79A\n",
      "already exists\n",
      "56A\n",
      "already exists\n",
      "38A\n",
      "already exists\n",
      "84A\n",
      "already exists\n",
      "044\n",
      "already exists\n",
      "104\n",
      "already exists\n",
      "150\n",
      "011\n",
      "already exists\n",
      "68A\n",
      "already exists\n",
      "008\n",
      "already exists\n",
      "32A\n",
      "already exists\n",
      "140\n",
      "already exists\n",
      "068\n",
      "already exists\n",
      "83A\n",
      "already exists\n",
      "123\n",
      "already exists\n",
      "66B\n",
      "already exists\n",
      "039\n",
      "already exists\n",
      "083\n",
      "already exists\n",
      "001\n",
      "004\n",
      "already exists\n",
      "40B\n",
      "already exists\n",
      "043\n",
      "already exists\n",
      "40D\n",
      "already exists\n",
      "114\n",
      "already exists\n",
      "047\n",
      "41B\n",
      "239\n",
      "already exists\n",
      "053\n",
      "27X\n",
      "already exists\n",
      "45A\n",
      "already exists\n",
      "161\n",
      "already exists\n",
      "39A\n",
      "already exists\n",
      "017\n",
      "33X\n",
      "51D\n",
      "already exists\n",
      "33B\n",
      "already exists\n",
      "220\n",
      "already exists\n",
      "747\n",
      "44B\n",
      "already exists\n",
      "013\n",
      "already exists\n",
      "32B\n",
      "already exists\n",
      "27B\n",
      "already exists\n",
      "014\n",
      "already exists\n",
      "061\n",
      "already exists\n",
      "067\n",
      "already exists\n",
      "66X\n",
      "already exists\n",
      "32X\n",
      "already exists\n",
      "130\n",
      "already exists\n",
      "116\n",
      "already exists\n",
      "29A\n",
      "already exists\n",
      "079\n",
      "already exists\n",
      "084\n",
      "already exists\n",
      "38B\n",
      "already exists\n",
      "67X\n",
      "already exists\n",
      "65B\n",
      "already exists\n",
      "66A\n",
      "already exists\n"
     ]
    }
   ],
   "source": [
    "# same for json\n",
    "dicty = {}\n",
    "for i in ready:\n",
    "    print(i)\n",
    "    if isfile(\"./JSON2/merged/\"+i+'.json'):\n",
    "        print(\"already exists\")\n",
    "    else:\n",
    "        dicty[i] = {}\n",
    "        for file in files:\n",
    "            if i in file[:-1]:\n",
    "                  with open('./JSON2/'+file+'.json') as data_file:\n",
    "                        dicty[i][file[-1]] = json.load(data_file)\n",
    "        with open('./JSON2/merged/'+i+'.json', 'w') as fp:\n",
    "            json.dump(dicty[i], fp)\n",
    "\n"
   ]
  },
  {
   "cell_type": "code",
   "execution_count": null,
   "metadata": {
    "collapsed": true
   },
   "outputs": [],
   "source": [
    "# now for the ones that dont need to be merged"
   ]
  },
  {
   "cell_type": "code",
   "execution_count": 135,
   "metadata": {
    "collapsed": false
   },
   "outputs": [
    {
     "name": "stdout",
     "output_type": "stream",
     "text": [
      "038\n",
      "027\n",
      "46E\n",
      "018\n",
      "51X\n",
      "27A\n",
      "41A\n",
      "118\n"
     ]
    }
   ],
   "source": [
    "# for csv\n",
    "\n",
    "for i in alone:\n",
    "    print(i)\n",
    "    if isfile(\"./complete dfs/cleaned and merged/\"+i+'.csv'):\n",
    "        print(\"already exists\")\n",
    "    else:\n",
    "        dfs = []\n",
    "        for file in files:\n",
    "            if i in file[:-1]:\n",
    "                df = pd.read_csv('./complete dfs/cleaned/'+ file+'cleaned.csv', low_memory= False)\n",
    "                dfs+= [df]\n",
    "        size = []\n",
    "        for j in dfs:\n",
    "            size += [j.shape[1]]\n",
    "        if len(set(size)) != 1:\n",
    "            print(\"ERROR\")\n",
    "        else:\n",
    "            complete = pd.concat(dfs)\n",
    "            complete.to_csv(\"./complete dfs/cleaned and merged/\"+i+\".csv\")\n",
    "                \n",
    "        \n",
    "        "
   ]
  },
  {
   "cell_type": "code",
   "execution_count": 136,
   "metadata": {
    "collapsed": false
   },
   "outputs": [
    {
     "name": "stdout",
     "output_type": "stream",
     "text": [
      "038\n",
      "027\n",
      "46E\n",
      "018\n",
      "51X\n",
      "27A\n",
      "41A\n",
      "118\n"
     ]
    }
   ],
   "source": [
    "# same for json\n",
    "dicty = {}\n",
    "for i in alone:\n",
    "    print(i)\n",
    "    if isfile(\"./JSON2/merged/\"+i+'.json'):\n",
    "        print(\"already exists\")\n",
    "    else:\n",
    "        dicty[i] = {}\n",
    "        for file in files:\n",
    "            if i in file[:-1]:\n",
    "                  with open('./JSON2/'+file+'.json') as data_file:\n",
    "                        dicty[i][file[-1]] = json.load(data_file)\n",
    "        with open('./JSON2/merged/'+i+'.json', 'w') as fp:\n",
    "            json.dump(dicty[i], fp)\n",
    "\n"
   ]
  },
  {
   "cell_type": "code",
   "execution_count": null,
   "metadata": {
    "collapsed": true
   },
   "outputs": [],
   "source": []
  },
  {
   "cell_type": "markdown",
   "metadata": {},
   "source": [
    "## old code"
   ]
  },
  {
   "cell_type": "code",
   "execution_count": null,
   "metadata": {
    "collapsed": true
   },
   "outputs": [],
   "source": []
  },
  {
   "cell_type": "code",
   "execution_count": 97,
   "metadata": {
    "collapsed": false
   },
   "outputs": [
    {
     "ename": "KeyError",
     "evalue": "'31B'",
     "output_type": "error",
     "traceback": [
      "\u001b[0;31m---------------------------------------------------------------------------\u001b[0m",
      "\u001b[0;31mKeyError\u001b[0m                                  Traceback (most recent call last)",
      "\u001b[0;32m<ipython-input-97-1c266733c01f>\u001b[0m in \u001b[0;36m<module>\u001b[0;34m()\u001b[0m\n\u001b[1;32m      1\u001b[0m \u001b[1;32mimport\u001b[0m \u001b[0mmath\u001b[0m\u001b[1;33m\u001b[0m\u001b[0m\n\u001b[0;32m----> 2\u001b[0;31m \u001b[0mmath\u001b[0m\u001b[1;33m.\u001b[0m\u001b[0misnan\u001b[0m\u001b[1;33m(\u001b[0m\u001b[0mdicty\u001b[0m\u001b[1;33m[\u001b[0m\u001b[1;34m'31B'\u001b[0m\u001b[1;33m]\u001b[0m\u001b[1;33m[\u001b[0m\u001b[1;34m'1'\u001b[0m\u001b[1;33m]\u001b[0m\u001b[1;33m[\u001b[0m\u001b[1;34m'5'\u001b[0m\u001b[1;33m]\u001b[0m\u001b[1;33m[\u001b[0m\u001b[1;34m'10'\u001b[0m\u001b[1;33m]\u001b[0m\u001b[1;33m[\u001b[0m\u001b[1;34m'621'\u001b[0m\u001b[1;33m]\u001b[0m\u001b[1;33m)\u001b[0m\u001b[1;33m\u001b[0m\u001b[0m\n\u001b[0m",
      "\u001b[0;31mKeyError\u001b[0m: '31B'"
     ]
    }
   ],
   "source": [
    "import math\n",
    "math.isnan(dicty['31B']['1']['5']['10']['621'])"
   ]
  },
  {
   "cell_type": "code",
   "execution_count": 87,
   "metadata": {
    "collapsed": false
   },
   "outputs": [
    {
     "name": "stdout",
     "output_type": "stream",
     "text": [
      "7\n",
      "20\n",
      "15\n",
      "13\n",
      "9\n",
      "22\n",
      "11\n",
      "14\n",
      "23\n",
      "16\n",
      "8\n",
      "12\n",
      "10\n",
      "17\n",
      "6\n",
      "18\n",
      "19\n",
      "21\n",
      "7\n",
      "20\n",
      "15\n",
      "13\n",
      "9\n",
      "22\n",
      "11\n",
      "14\n",
      "23\n",
      "16\n",
      "8\n",
      "12\n",
      "10\n",
      "17\n",
      "6\n",
      "18\n",
      "19\n",
      "21\n",
      "7\n",
      "20\n",
      "15\n",
      "13\n",
      "9\n",
      "22\n",
      "11\n",
      "14\n",
      "23\n",
      "16\n",
      "8\n",
      "12\n",
      "10\n",
      "17\n",
      "6\n",
      "18\n",
      "19\n",
      "21\n",
      "7\n",
      "20\n",
      "15\n",
      "13\n",
      "9\n",
      "22\n",
      "11\n",
      "14\n",
      "23\n",
      "16\n",
      "8\n",
      "12\n",
      "10\n",
      "17\n",
      "6\n",
      "18\n",
      "19\n",
      "21\n",
      "7\n",
      "20\n",
      "15\n",
      "13\n",
      "9\n",
      "22\n",
      "11\n",
      "14\n",
      "23\n",
      "16\n",
      "8\n",
      "12\n",
      "10\n",
      "17\n",
      "6\n",
      "18\n",
      "19\n",
      "21\n",
      "7\n",
      "20\n",
      "15\n",
      "13\n",
      "9\n",
      "22\n",
      "11\n",
      "14\n",
      "23\n",
      "16\n",
      "8\n",
      "12\n",
      "10\n",
      "17\n",
      "6\n",
      "18\n",
      "19\n",
      "21\n",
      "7\n",
      "20\n",
      "15\n",
      "13\n",
      "9\n",
      "22\n",
      "11\n",
      "14\n",
      "23\n",
      "16\n",
      "8\n",
      "12\n",
      "10\n",
      "17\n",
      "6\n",
      "18\n",
      "19\n",
      "21\n",
      "3\n"
     ]
    },
    {
     "ename": "TypeError",
     "evalue": "'int' object is not iterable",
     "output_type": "error",
     "traceback": [
      "\u001b[0;31m---------------------------------------------------------------------------\u001b[0m",
      "\u001b[0;31mTypeError\u001b[0m                                 Traceback (most recent call last)",
      "\u001b[0;32m<ipython-input-87-5a3f7e843290>\u001b[0m in \u001b[0;36m<module>\u001b[0;34m()\u001b[0m\n\u001b[1;32m     11\u001b[0m                     \u001b[1;32melse\u001b[0m\u001b[1;33m:\u001b[0m\u001b[1;33m\u001b[0m\u001b[0m\n\u001b[1;32m     12\u001b[0m                         \u001b[0mprint\u001b[0m\u001b[1;33m(\u001b[0m\u001b[0mtime\u001b[0m\u001b[1;33m)\u001b[0m\u001b[1;33m\u001b[0m\u001b[0m\n\u001b[0;32m---> 13\u001b[0;31m                         \u001b[1;32mfor\u001b[0m \u001b[0mstop\u001b[0m \u001b[1;32min\u001b[0m \u001b[0mdicty\u001b[0m\u001b[1;33m[\u001b[0m\u001b[0mbus\u001b[0m\u001b[1;33m]\u001b[0m\u001b[1;33m[\u001b[0m\u001b[0mdirection\u001b[0m\u001b[1;33m]\u001b[0m\u001b[1;33m[\u001b[0m\u001b[0mday\u001b[0m\u001b[1;33m]\u001b[0m\u001b[1;33m[\u001b[0m\u001b[0mtime\u001b[0m\u001b[1;33m]\u001b[0m\u001b[1;33m:\u001b[0m\u001b[1;33m\u001b[0m\u001b[0m\n\u001b[0m\u001b[1;32m     14\u001b[0m                             \u001b[1;32mif\u001b[0m \u001b[0mmath\u001b[0m\u001b[1;33m.\u001b[0m\u001b[0misnan\u001b[0m\u001b[1;33m(\u001b[0m\u001b[0mdicty\u001b[0m\u001b[1;33m[\u001b[0m\u001b[0mbus\u001b[0m\u001b[1;33m]\u001b[0m\u001b[1;33m[\u001b[0m\u001b[0mdirection\u001b[0m\u001b[1;33m]\u001b[0m\u001b[1;33m[\u001b[0m\u001b[0mday\u001b[0m\u001b[1;33m]\u001b[0m\u001b[1;33m[\u001b[0m\u001b[0mtime\u001b[0m\u001b[1;33m]\u001b[0m\u001b[1;33m[\u001b[0m\u001b[0mstop\u001b[0m\u001b[1;33m]\u001b[0m\u001b[1;33m)\u001b[0m\u001b[1;33m:\u001b[0m\u001b[1;33m\u001b[0m\u001b[0m\n\u001b[1;32m     15\u001b[0m                                 \u001b[0mremove\u001b[0m \u001b[1;33m+=\u001b[0m\u001b[1;33m[\u001b[0m\u001b[0mbus\u001b[0m\u001b[1;33m,\u001b[0m \u001b[0mdirection\u001b[0m\u001b[1;33m,\u001b[0m \u001b[0mday\u001b[0m\u001b[1;33m,\u001b[0m \u001b[0mtime\u001b[0m\u001b[1;33m,\u001b[0m \u001b[0mstop\u001b[0m\u001b[1;33m]\u001b[0m\u001b[1;33m\u001b[0m\u001b[0m\n",
      "\u001b[0;31mTypeError\u001b[0m: 'int' object is not iterable"
     ]
    }
   ],
   "source": [
    "# cant figure this one out\n",
    "\n",
    "remove = []\n",
    "for bus in dicty:\n",
    "    for direction in dicty[bus]:\n",
    "        for day in dicty[bus][direction]:\n",
    "            if dicty[bus][direction][day] == 'index':\n",
    "                continue\n",
    "            else:\n",
    "                for time in dicty[bus][direction][day]:\n",
    "                    if dicty[bus][direction][day][time] == 'index':\n",
    "                        continue\n",
    "                    else:\n",
    "                        print(time)\n",
    "                        for stop in dicty[bus][direction][day][time]:\n",
    "                            if math.isnan(dicty[bus][direction][day][time][stop]):\n",
    "                                remove +=[bus, direction, day, time, stop]\n"
   ]
  },
  {
   "cell_type": "code",
   "execution_count": null,
   "metadata": {
    "collapsed": true
   },
   "outputs": [],
   "source": []
  },
  {
   "cell_type": "code",
   "execution_count": null,
   "metadata": {
    "collapsed": true
   },
   "outputs": [],
   "source": []
  },
  {
   "cell_type": "code",
   "execution_count": null,
   "metadata": {
    "collapsed": true
   },
   "outputs": [],
   "source": []
  },
  {
   "cell_type": "code",
   "execution_count": 17,
   "metadata": {
    "collapsed": false
   },
   "outputs": [],
   "source": [
    "path = '/Users/jakek/Documents/Computer Science/Semester 3/Data Analytics/Working folder/complete dfs/bus 1/'\n",
    "df = pd.read_csv(path+ '4_1cleaned.csv', low_memory= False)\n",
    "df1 = pd.read_csv(path+ '4_0cleaned.csv', low_memory= False)\n"
   ]
  },
  {
   "cell_type": "code",
   "execution_count": 18,
   "metadata": {
    "collapsed": false
   },
   "outputs": [
    {
     "data": {
      "text/plain": [
       "(136753, 16)"
      ]
     },
     "execution_count": 18,
     "metadata": {},
     "output_type": "execute_result"
    }
   ],
   "source": [
    "df.shape"
   ]
  },
  {
   "cell_type": "code",
   "execution_count": 19,
   "metadata": {
    "collapsed": false
   },
   "outputs": [
    {
     "data": {
      "text/plain": [
       "(87817, 16)"
      ]
     },
     "execution_count": 19,
     "metadata": {},
     "output_type": "execute_result"
    }
   ],
   "source": [
    "df1.shape"
   ]
  },
  {
   "cell_type": "code",
   "execution_count": 20,
   "metadata": {
    "collapsed": true
   },
   "outputs": [],
   "source": [
    "complete = pd.concat([df,df1])"
   ]
  },
  {
   "cell_type": "code",
   "execution_count": 21,
   "metadata": {
    "collapsed": false
   },
   "outputs": [
    {
     "data": {
      "text/plain": [
       "(224570, 16)"
      ]
     },
     "execution_count": 21,
     "metadata": {},
     "output_type": "execute_result"
    }
   ],
   "source": [
    "complete.shape"
   ]
  },
  {
   "cell_type": "code",
   "execution_count": 22,
   "metadata": {
    "collapsed": true
   },
   "outputs": [],
   "source": [
    "complete.to_csv(\"./complete dfs/cleaned and merged/bus 4 complete.csv\")"
   ]
  },
  {
   "cell_type": "code",
   "execution_count": null,
   "metadata": {
    "collapsed": true
   },
   "outputs": [],
   "source": []
  },
  {
   "cell_type": "code",
   "execution_count": 23,
   "metadata": {
    "collapsed": false
   },
   "outputs": [],
   "source": [
    "with open('./JSON2/bus1/4_0.json') as data_file:    \n",
    "    dir_0 = json.load(data_file)\n",
    "    \n",
    "with open('./JSON2/bus1/4_1.json') as data_file:    \n",
    "    dir_1 = json.load(data_file)"
   ]
  },
  {
   "cell_type": "code",
   "execution_count": 24,
   "metadata": {
    "collapsed": false,
    "scrolled": true
   },
   "outputs": [
    {
     "data": {
      "text/plain": [
       "{'112': 138.25,\n",
       " '113': 30.125,\n",
       " '114': 65.63636363636364,\n",
       " '115': 70.23076923076923,\n",
       " '127': 82.9090909090909,\n",
       " '146': 39.266666666666666,\n",
       " '147': 75.71428571428571,\n",
       " '184': 46.07692307692308,\n",
       " '185': 64.0,\n",
       " '186': 54.69230769230769,\n",
       " '187': 120.38461538461539,\n",
       " '188': 59.53846153846154,\n",
       " '189': 30.76923076923077,\n",
       " '190': 72.23076923076923,\n",
       " '191': 110.28571428571429,\n",
       " '273': 208.6,\n",
       " '3114': 40.93333333333333,\n",
       " '3115': 70.875,\n",
       " '3116': 80.5,\n",
       " '324': nan,\n",
       " '327': nan,\n",
       " '37': 69.23076923076923,\n",
       " '38': 34.07142857142857,\n",
       " '39': 74.0,\n",
       " '40': 34.5,\n",
       " '402': 116.93333333333334,\n",
       " '405': 113.28571428571429,\n",
       " '408': 29.071428571428573,\n",
       " '409': 68.4375,\n",
       " '410': 37.705882352941174,\n",
       " '411': 96.5,\n",
       " '412': 31.416666666666668,\n",
       " '413': nan,\n",
       " '414': 34.11764705882353,\n",
       " '415': 86.0,\n",
       " '416': 68.05555555555556,\n",
       " '417': 49.6875,\n",
       " '418': 42.6,\n",
       " '419': 30.4,\n",
       " '420': 41.5625,\n",
       " '421': 68.0,\n",
       " '422': 76.875,\n",
       " '423': 54.266666666666666,\n",
       " '424': 47.09090909090909,\n",
       " '425': 37.166666666666664,\n",
       " '426': 46.125,\n",
       " '427': 47.8125,\n",
       " '428': 37.294117647058826,\n",
       " '429': 82.875,\n",
       " '4725': 219.66666666666666,\n",
       " '6085': 76.94444444444444,\n",
       " '6334': 151.8125,\n",
       " '7113': 64.84615384615384,\n",
       " '7457': 37.92857142857143,\n",
       " '7476': 0,\n",
       " '7477': 0,\n",
       " '7478': 59.0,\n",
       " '7479': 41.0,\n",
       " '7481': 72.0,\n",
       " '7482': 41.0,\n",
       " '7483': 61.0,\n",
       " '7531': 0,\n",
       " '7532': nan,\n",
       " '7533': 41.0,\n",
       " '7536': 18.0,\n",
       " '819': 67.92857142857143}"
      ]
     },
     "execution_count": 24,
     "metadata": {},
     "output_type": "execute_result"
    }
   ],
   "source": [
    "dir_0['3']['12']"
   ]
  },
  {
   "cell_type": "code",
   "execution_count": 25,
   "metadata": {
    "collapsed": false,
    "scrolled": true
   },
   "outputs": [
    {
     "data": {
      "text/plain": [
       "{'126': 76.6875,\n",
       " '148': 70.75,\n",
       " '149': 38.833333333333336,\n",
       " '150': 87.27272727272727,\n",
       " '194': 76.18181818181819,\n",
       " '195': 33.578947368421055,\n",
       " '196': 36.80952380952381,\n",
       " '197': 62.91304347826087,\n",
       " '198': 78.58333333333333,\n",
       " '199': 85.27272727272727,\n",
       " '200': 33.77272727272727,\n",
       " '201': 53.0,\n",
       " '2051': 80.51724137931035,\n",
       " '27': 30.57894736842105,\n",
       " '28': 26.5,\n",
       " '281': 210.56521739130434,\n",
       " '29': 28.5625,\n",
       " '3084': 70.51724137931035,\n",
       " '3161': 55.4,\n",
       " '3162': 59.241379310344826,\n",
       " '3163': 59.93103448275862,\n",
       " '3164': 184.3,\n",
       " '322': 162.8235294117647,\n",
       " '323': 416.0833333333333,\n",
       " '332': 11258.0,\n",
       " '400': 284.8695652173913,\n",
       " '4680': 54.8421052631579,\n",
       " '469': 61.708333333333336,\n",
       " '470': 30.09090909090909,\n",
       " '4705': 38.708333333333336,\n",
       " '471': 31.73913043478261,\n",
       " '472': 40.0,\n",
       " '473': 32.18518518518518,\n",
       " '475': 57.142857142857146,\n",
       " '476': 36.95,\n",
       " '477': 51.608695652173914,\n",
       " '478': 69.5,\n",
       " '479': 86.0,\n",
       " '480': 32.208333333333336,\n",
       " '481': 33.28,\n",
       " '482': 38.8,\n",
       " '483': 84.10344827586206,\n",
       " '485': 103.46428571428571,\n",
       " '487': 78.89285714285714,\n",
       " '488': 37.357142857142854,\n",
       " '489': 57.592592592592595,\n",
       " '490': 57.81818181818182,\n",
       " '491': 37.18181818181818,\n",
       " '492': 70.4,\n",
       " '493': 79.48,\n",
       " '494': 140.52,\n",
       " '495': 64.75,\n",
       " '6': 106.88,\n",
       " '6086': 59.10344827586207,\n",
       " '6182': 41.93333333333333,\n",
       " '7330': 90.75862068965517,\n",
       " '90': 30.8125,\n",
       " '91': 63.75,\n",
       " '92': 36.05,\n",
       " '93': 76.66666666666667,\n",
       " '94': 96.61111111111111}"
      ]
     },
     "execution_count": 25,
     "metadata": {},
     "output_type": "execute_result"
    }
   ],
   "source": [
    "dir_1['3']['12']"
   ]
  },
  {
   "cell_type": "code",
   "execution_count": 26,
   "metadata": {
    "collapsed": true
   },
   "outputs": [],
   "source": [
    "bus_4 = {}"
   ]
  },
  {
   "cell_type": "code",
   "execution_count": 27,
   "metadata": {
    "collapsed": false
   },
   "outputs": [],
   "source": [
    "bus_4['0']= dir_0\n",
    "bus_4['1']= dir_1"
   ]
  },
  {
   "cell_type": "code",
   "execution_count": 28,
   "metadata": {
    "collapsed": true
   },
   "outputs": [],
   "source": [
    "with open('./JSON2/bus1/Bus_4.json', 'w') as fp:\n",
    "    json.dump(bus_4, fp)"
   ]
  },
  {
   "cell_type": "code",
   "execution_count": null,
   "metadata": {
    "collapsed": true
   },
   "outputs": [],
   "source": []
  }
 ],
 "metadata": {
  "anaconda-cloud": {},
  "kernelspec": {
   "display_name": "Python [conda root]",
   "language": "python",
   "name": "conda-root-py"
  },
  "language_info": {
   "codemirror_mode": {
    "name": "ipython",
    "version": 3
   },
   "file_extension": ".py",
   "mimetype": "text/x-python",
   "name": "python",
   "nbconvert_exporter": "python",
   "pygments_lexer": "ipython3",
   "version": "3.5.2"
  }
 },
 "nbformat": 4,
 "nbformat_minor": 1
}
