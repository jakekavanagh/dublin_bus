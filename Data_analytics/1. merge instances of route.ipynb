{
 "cells": [
  {
   "cell_type": "code",
   "execution_count": 1,
   "metadata": {
    "collapsed": true
   },
   "outputs": [],
   "source": [
    "import pandas as pd\n",
    "import numpy as np\n",
    "import matplotlib.pyplot as plt\n",
    "import matplotlib.patches as mpatches\n",
    "import matplotlib.font_manager as fm\n",
    "import matplotlib\n",
    "import pickle\n",
    "import timeit\n",
    "import h5py\n",
    "import math\n",
    "import os\n",
    "import json\n",
    "# import seaborn as sns\n",
    "%matplotlib inline\n",
    "import datetime\n",
    "from os import listdir\n",
    "from os.path import isfile, join"
   ]
  },
  {
   "cell_type": "code",
   "execution_count": 2,
   "metadata": {
    "collapsed": true
   },
   "outputs": [],
   "source": [
    "path = '/Users/jakek/Documents/Computer Science/Semester 3/Data Analytics/compiled compiled 2/'\n",
    "import os"
   ]
  },
  {
   "cell_type": "code",
   "execution_count": 3,
   "metadata": {
    "collapsed": true
   },
   "outputs": [],
   "source": [
    "def clean(file):\n",
    "    features = list(file.columns.values)\n",
    "    if 'Unnamed: 0' in features:\n",
    "        file.drop('Unnamed: 0', axis=1, inplace=True)\n",
    "    if 'Unnamed: 0.1' in features:\n",
    "        file.drop('Unnamed: 0.1', axis=1, inplace=True) \n",
    "    \n",
    "    if 'null' in file['StopID'].unique():\n",
    "        file = file[file.StopID != 'null']\n",
    "    file['StopID'] = file['StopID'].astype(float).astype(int)\n",
    "    \n",
    "    file = file.groupby(['VehicleJourneyID','TimeFrame']).filter(lambda x: (x.StopID).nunique() > 8)\n",
    "    value = frequent(file)\n",
    "    file = file.groupby(['VehicleJourneyID','TimeFrame']).filter(lambda x: x['StopID'].loc[x['Timestamp'] == x['Timestamp'].min()].values[0] == value)\n",
    "    return file\n",
    "\n",
    "def frequent(file):\n",
    "    starts = []\n",
    "    for name, group in file.groupby(['VehicleJourneyID','TimeFrame']):\n",
    "            starts+=[group[group.Timestamp == group.Timestamp.min()].StopID.values[0]]\n",
    "    if len(starts)>0:\n",
    "        return max(set(starts), key=starts.count)\n",
    "    else:\n",
    "        return None"
   ]
  },
  {
   "cell_type": "code",
   "execution_count": 4,
   "metadata": {
    "collapsed": false
   },
   "outputs": [],
   "source": [
    "files = []\n",
    "instances=[]\n",
    "for file in  os.listdir(path):\n",
    "    instances += [file[4:-4]]\n",
    "    file = file[3:8]\n",
    "    if file[0] =='0':\n",
    "        file = file[1:]\n",
    "        files += [file]\n",
    "files=set(files)"
   ]
  },
  {
   "cell_type": "code",
   "execution_count": 5,
   "metadata": {
    "collapsed": false
   },
   "outputs": [
    {
     "name": "stdout",
     "output_type": "stream",
     "text": [
      "{'27X0', '2381', '0691', '29A1', '0041', '0180', '41C1', '1301', '27X1', '1510', '0400', '0680', '0700', '41C0', '0171', '32A0', '2701', '0011', '31B1', '2360', '29A0', '33A1', '56A1', '1181', '38B1', '41X0', '84A1', '0651', '32B1', '0470', '27B1', '0610', '0750', '0110', '0141', '0701', '1200', '0150', '2391', '0650', '65B0', '40B0', '67X0', '0160', '1201', '32X1', '51D1', '83A1', '1141', '0260', '1500', '41B0', '0690', '0170', '1020', '0431', '0270', '2380', '0491', '1610', '56A0', '45A0', '0681', '1420', '1851', '33A0', '1511', '32B0', '0390', '0670', '44B1', '0441', '27A1', '0080', '51X1', '0611', '1041', '0010', '0591', '2361', '0790', '0420', '0430', '0791', '2390', '51D0', '46A1', '38A0', '41B1', '0091', '0070', '7470', '0131', '66A1', '0381', '39A0', '69X1', '0531', '84X0', '54A0', '45A1', '68A1', '33X0', '68A0', '84X1', '0840', '1160', '1841', '39A1', '76A0', '1421', '0590', '1401', '0530', '0151', '0841', '0161', '1231', '65B1', '33B1', '38B0', '0090', '1040', '41X1', '0631', '69X0', '0111', '46E1', '1451', '44B0', '0671', '84A0', '0661', '1450', '79A0', '0410', '41A1', '0261', '1230', '32A1', '76A1', '0411', '0761', '0140', '0391', '1501', '33B0', '40D1', '40B1', '66B0', '0490', '0630', '0760', '1161', '1300', '1221', '2201', '0040', '2200', '66A0', '66B1', '1400', '0421', '0660', '0130', '27B0', '31B0', '2700', '0471', '0831', '7471', '54A1', '0830', '1111', '1840', '46A0', '67X1', '83A0', '1021', '0751', '33X1', '38A1', '0440', '0071', '1611', '40D0', '77A0', '1110', '66X1', '1140', '1850', '0081', '32X0', '1220', '66X0', '79A1', '0401', '77A1'}\n"
     ]
    }
   ],
   "source": [
    "print(files)"
   ]
  },
  {
   "cell_type": "code",
   "execution_count": 66,
   "metadata": {
    "collapsed": false
   },
   "outputs": [
    {
     "name": "stderr",
     "output_type": "stream",
     "text": [
      "C:\\Users\\jakek\\Anaconda3\\lib\\site-packages\\ipykernel\\__main__.py:8: FutureWarning: elementwise comparison failed; returning scalar instead, but in the future will perform elementwise comparison\n"
     ]
    },
    {
     "name": "stdout",
     "output_type": "stream",
     "text": [
      "0111 311595\n",
      "1850 63784\n"
     ]
    },
    {
     "name": "stderr",
     "output_type": "stream",
     "text": [
      "C:\\Users\\jakek\\Anaconda3\\lib\\site-packages\\ipykernel\\__main__.py:10: SettingWithCopyWarning: \n",
      "A value is trying to be set on a copy of a slice from a DataFrame.\n",
      "Try using .loc[row_indexer,col_indexer] = value instead\n",
      "\n",
      "See the caveats in the documentation: http://pandas.pydata.org/pandas-docs/stable/indexing.html#indexing-view-versus-copy\n"
     ]
    },
    {
     "name": "stdout",
     "output_type": "stream",
     "text": [
      "27B0 379428\n",
      "67X0 59634\n",
      "77A0 476345\n",
      "54A1 268390\n",
      "69X1 7471\n",
      "1040 80408\n",
      "0261 155651\n",
      "32X1 22724\n",
      "40B0 34266\n",
      "0090 701770\n",
      "32X0 23738\n",
      "1220 506617\n",
      "0260 159298\n",
      "46A1 1453826\n",
      "0180 442141\n",
      "2391 95105\n",
      "1501 245007\n",
      "46A0 1274425\n",
      "45A1 204159\n",
      "0761 243412\n",
      "38A0 250226\n",
      "0040 347743\n",
      "0591 81282\n",
      "41A1 13568\n",
      "0070 559938\n",
      "0011 384412\n",
      "2200 61569\n",
      "33B0 114142\n",
      "1451 1024309\n",
      "33X1 28389\n",
      "44B0 22382\n",
      "39A1 807675\n",
      "1201 252638\n",
      "32B0 29185\n",
      "0630 227822\n",
      "0411 464885\n",
      "1420 44504\n",
      "67X1 61625\n",
      "7470 727171\n",
      "0681 150424\n",
      "1851 52913\n",
      "0160 1098258\n",
      "1610 12803\n",
      "2700 76575\n",
      "41X1 37360\n",
      "84X1 62567\n",
      "76A1 21305\n",
      "0841 184818\n",
      "0171 231621\n",
      "0010 343905\n",
      "0161 1043055\n",
      "0840 172769\n",
      "1140 81182\n",
      "0691 151266\n",
      "32A0 21197\n",
      "1611 19243\n",
      "33B1 102806\n",
      "40D1 282848\n",
      "1181 6873\n",
      "0391 358165\n",
      "27A1 135835\n",
      "66B1 141443\n",
      "0470 164463\n",
      "0751 281838\n",
      "77A1 467524\n",
      "0110 378734\n",
      "0750 404183\n",
      "27B1 231713\n",
      "0140 578845\n",
      "1041 80945\n",
      "84A1 41702\n",
      "1401 525402\n",
      "33A1 51673\n",
      "0830 469650\n",
      "1221 518128\n",
      "38B0 37507\n",
      "1230 617261\n",
      "79A0 144459\n",
      "1500 323124\n",
      "41C0 364563\n",
      "27X1 21372\n",
      "69X0 6267\n",
      "1231 762773\n",
      "0071 512895\n",
      "56A0 107581\n",
      "2390 85866\n",
      "0760 236130\n",
      "41C1 387341\n",
      "0091 779093\n",
      "1300 385481\n",
      "1160 5844\n",
      "40B1 33694\n",
      "41B0 41726\n",
      "0701 166169\n",
      "66X1 67042\n",
      "0671 354685\n",
      "0080 54974\n",
      "41B1 36744\n",
      "0530 58616\n",
      "31B0 38269\n",
      "1450 1118512\n",
      "84A0 39502\n",
      "0440 257008\n",
      "84X0 77187\n",
      "32A1 20614\n",
      "0130 724414\n",
      "1510 458794\n",
      "7471 715820\n",
      "0431 181703\n",
      "65B1 188414\n",
      "76A0 25690\n",
      "0131 890657\n",
      "1111 16260\n",
      "1161 3584\n",
      "51D1 25232\n",
      "68A1 16603\n",
      "0471 151147\n",
      "0390 406023\n",
      "0401 1170494\n",
      "65B0 186661\n",
      "0421 247460\n",
      "2361 14788\n",
      "29A0 328750\n",
      "0690 133047\n",
      "83A0 124166\n",
      "1141 52412\n",
      "1301 330372\n",
      "0491 346143\n",
      "0660 319705\n",
      "45A0 205199\n",
      "83A1 149871\n",
      "66A0 168077\n",
      "0400 1115926\n",
      "1020 281813\n",
      "0531 39185\n",
      "0661 336736\n",
      "0650 150546\n",
      "32B1 21068\n",
      "2201 87285\n",
      "1110 16752\n",
      "38A1 207861\n",
      "29A1 248301\n",
      "54A0 236084\n",
      "1421 34714\n",
      "0831 560252\n",
      "0151 1158001\n",
      "0611 146356\n",
      "56A1 123965\n",
      "1840 160975\n",
      "1841 179054\n",
      "1021 292658\n",
      "0410 394600\n",
      "0081 63435\n",
      "0041 505682\n",
      "0441 220071\n",
      "39A0 932110\n",
      "41X0 33252\n",
      "44B1 13353\n",
      "66B0 142753\n",
      "2701 65783\n",
      "51X1 11706\n",
      "38B1 40971\n",
      "0791 216914\n",
      "0150 1125160\n",
      "0700 185431\n",
      "1200 217639\n",
      "0381 54288\n",
      "2381 41836\n",
      "0170 186338\n",
      "0680 169722\n",
      "0141 681853\n",
      "0651 179091\n",
      "1400 551955\n",
      "2360 15909\n",
      "2380 59997\n",
      "46E1 17028\n",
      "66X0 69899\n",
      "40D0 277397\n",
      "33X0 41373\n",
      "66A1 130075\n",
      "0420 324609\n",
      "0610 133156\n",
      "0490 277084\n",
      "68A0 21903\n",
      "0430 213565\n",
      "0590 66687\n",
      "0790 183226\n",
      "31B1 31356\n",
      "0631 198518\n",
      "27X0 20133\n",
      "0270 922256\n",
      "33A0 48068\n",
      "51D0 18908\n",
      "0670 324371\n",
      "79A1 171462\n",
      "1511 447800\n"
     ]
    }
   ],
   "source": [
    "for file in files:\n",
    "    compiled = []\n",
    "    for i in instances:\n",
    "        if file == i[:4]:\n",
    "            df = pd.read_csv(path+ 'bus0'+i+'.csv', low_memory= False)\n",
    "            df.drop('Unnamed: 0', axis=1, inplace=True)\n",
    "            df.drop('Unnamed: 0.1', axis=1, inplace=True)\n",
    "            df.drop('Unnamed: 0.1.1', axis=1, inplace=True)\n",
    "            df = clean(df)\n",
    "            df['Instance'] = int(i[-1])\n",
    "            compiled +=[df]\n",
    "    complete = pd.concat(compiled)\n",
    "    complete['Direction'] = file[-1]\n",
    "    complete.to_csv(\"./complete dfs/\"+file+\".csv\")\n",
    "    print(file, complete.shape[0])"
   ]
  },
  {
   "cell_type": "code",
   "execution_count": 15,
   "metadata": {
    "collapsed": true
   },
   "outputs": [],
   "source": []
  },
  {
   "cell_type": "code",
   "execution_count": null,
   "metadata": {
    "collapsed": true
   },
   "outputs": [],
   "source": []
  },
  {
   "cell_type": "code",
   "execution_count": null,
   "metadata": {
    "collapsed": true
   },
   "outputs": [],
   "source": []
  },
  {
   "cell_type": "code",
   "execution_count": null,
   "metadata": {
    "collapsed": true
   },
   "outputs": [],
   "source": []
  },
  {
   "cell_type": "markdown",
   "metadata": {},
   "source": [
    "### old code"
   ]
  },
  {
   "cell_type": "code",
   "execution_count": null,
   "metadata": {
    "collapsed": true
   },
   "outputs": [],
   "source": []
  },
  {
   "cell_type": "code",
   "execution_count": 16,
   "metadata": {
    "collapsed": false
   },
   "outputs": [
    {
     "name": "stdout",
     "output_type": "stream",
     "text": [
      "576149\n"
     ]
    },
    {
     "name": "stderr",
     "output_type": "stream",
     "text": [
      "C:\\Users\\jakek\\Anaconda3\\lib\\site-packages\\ipykernel\\__main__.py:11: SettingWithCopyWarning: \n",
      "A value is trying to be set on a copy of a slice from a DataFrame.\n",
      "Try using .loc[row_indexer,col_indexer] = value instead\n",
      "\n",
      "See the caveats in the documentation: http://pandas.pydata.org/pandas-docs/stable/indexing.html#indexing-view-versus-copy\n"
     ]
    },
    {
     "name": "stdout",
     "output_type": "stream",
     "text": [
      "value 7330\n",
      "Shape: 500909\n"
     ]
    }
   ],
   "source": [
    "df.drop('Unnamed: 0', axis=1, inplace=True)\n",
    "df.drop('Unnamed: 0.1', axis=1, inplace=True)\n",
    "df.drop('Unnamed: 0.1.1', axis=1, inplace=True)\n",
    "df = clean(df)"
   ]
  },
  {
   "cell_type": "code",
   "execution_count": 17,
   "metadata": {
    "collapsed": false
   },
   "outputs": [
    {
     "name": "stdout",
     "output_type": "stream",
     "text": [
      "5055\n",
      "value 7330\n",
      "Shape: 4638\n"
     ]
    },
    {
     "name": "stderr",
     "output_type": "stream",
     "text": [
      "C:\\Users\\jakek\\Anaconda3\\lib\\site-packages\\ipykernel\\__main__.py:9: FutureWarning: elementwise comparison failed; returning scalar instead, but in the future will perform elementwise comparison\n"
     ]
    }
   ],
   "source": [
    "df1.drop('Unnamed: 0', axis=1, inplace=True)\n",
    "df1.drop('Unnamed: 0.1', axis=1, inplace=True)\n",
    "df1.drop('Unnamed: 0.1.1', axis=1, inplace=True)\n",
    "df1 = clean(df1)"
   ]
  },
  {
   "cell_type": "code",
   "execution_count": 18,
   "metadata": {
    "collapsed": true
   },
   "outputs": [],
   "source": [
    "df['Instance'] = 1\n",
    "df1['Instance'] = 2\n"
   ]
  },
  {
   "cell_type": "code",
   "execution_count": 19,
   "metadata": {
    "collapsed": true
   },
   "outputs": [],
   "source": [
    "complete = pd.concat([df,df1])"
   ]
  },
  {
   "cell_type": "code",
   "execution_count": 20,
   "metadata": {
    "collapsed": true
   },
   "outputs": [],
   "source": [
    "complete['Direction'] = 1"
   ]
  },
  {
   "cell_type": "code",
   "execution_count": 21,
   "metadata": {
    "collapsed": false
   },
   "outputs": [
    {
     "data": {
      "text/html": [
       "<div>\n",
       "<style>\n",
       "    .dataframe thead tr:only-child th {\n",
       "        text-align: right;\n",
       "    }\n",
       "\n",
       "    .dataframe thead th {\n",
       "        text-align: left;\n",
       "    }\n",
       "\n",
       "    .dataframe tbody tr th {\n",
       "        vertical-align: top;\n",
       "    }\n",
       "</style>\n",
       "<table border=\"1\" class=\"dataframe\">\n",
       "  <thead>\n",
       "    <tr style=\"text-align: right;\">\n",
       "      <th></th>\n",
       "      <th>Timestamp</th>\n",
       "      <th>LineID</th>\n",
       "      <th>Direction</th>\n",
       "      <th>JourneyPatternID</th>\n",
       "      <th>TimeFrame</th>\n",
       "      <th>VehicleJourneyID</th>\n",
       "      <th>Operator</th>\n",
       "      <th>Congestion</th>\n",
       "      <th>Lon</th>\n",
       "      <th>Lat</th>\n",
       "      <th>Delay</th>\n",
       "      <th>BlockID</th>\n",
       "      <th>VehicleID</th>\n",
       "      <th>StopID</th>\n",
       "      <th>AtStop</th>\n",
       "      <th>Instance</th>\n",
       "    </tr>\n",
       "  </thead>\n",
       "  <tbody>\n",
       "    <tr>\n",
       "      <th>0</th>\n",
       "      <td>1.352183e+15</td>\n",
       "      <td>4.0</td>\n",
       "      <td>1</td>\n",
       "      <td>41001.0</td>\n",
       "      <td>2012-11-06</td>\n",
       "      <td>5711.0</td>\n",
       "      <td>CD</td>\n",
       "      <td>0.0</td>\n",
       "      <td>-6.153664</td>\n",
       "      <td>53.288544</td>\n",
       "      <td>46.0</td>\n",
       "      <td>4002.0</td>\n",
       "      <td>43033.0</td>\n",
       "      <td>7330</td>\n",
       "      <td>0.0</td>\n",
       "      <td>1</td>\n",
       "    </tr>\n",
       "    <tr>\n",
       "      <th>1</th>\n",
       "      <td>1.352183e+15</td>\n",
       "      <td>4.0</td>\n",
       "      <td>1</td>\n",
       "      <td>41001.0</td>\n",
       "      <td>2012-11-06</td>\n",
       "      <td>5711.0</td>\n",
       "      <td>CD</td>\n",
       "      <td>0.0</td>\n",
       "      <td>-6.154701</td>\n",
       "      <td>53.288208</td>\n",
       "      <td>46.0</td>\n",
       "      <td>4002.0</td>\n",
       "      <td>43033.0</td>\n",
       "      <td>7330</td>\n",
       "      <td>0.0</td>\n",
       "      <td>1</td>\n",
       "    </tr>\n",
       "    <tr>\n",
       "      <th>2</th>\n",
       "      <td>1.352184e+15</td>\n",
       "      <td>4.0</td>\n",
       "      <td>1</td>\n",
       "      <td>41001.0</td>\n",
       "      <td>2012-11-06</td>\n",
       "      <td>5711.0</td>\n",
       "      <td>CD</td>\n",
       "      <td>0.0</td>\n",
       "      <td>-6.158092</td>\n",
       "      <td>53.287102</td>\n",
       "      <td>63.0</td>\n",
       "      <td>4002.0</td>\n",
       "      <td>43033.0</td>\n",
       "      <td>7330</td>\n",
       "      <td>0.0</td>\n",
       "      <td>1</td>\n",
       "    </tr>\n",
       "    <tr>\n",
       "      <th>3</th>\n",
       "      <td>1.352184e+15</td>\n",
       "      <td>4.0</td>\n",
       "      <td>1</td>\n",
       "      <td>41001.0</td>\n",
       "      <td>2012-11-06</td>\n",
       "      <td>5711.0</td>\n",
       "      <td>CD</td>\n",
       "      <td>0.0</td>\n",
       "      <td>-6.153664</td>\n",
       "      <td>53.288544</td>\n",
       "      <td>126.0</td>\n",
       "      <td>4002.0</td>\n",
       "      <td>43033.0</td>\n",
       "      <td>7330</td>\n",
       "      <td>0.0</td>\n",
       "      <td>1</td>\n",
       "    </tr>\n",
       "    <tr>\n",
       "      <th>4</th>\n",
       "      <td>1.352184e+15</td>\n",
       "      <td>4.0</td>\n",
       "      <td>1</td>\n",
       "      <td>41001.0</td>\n",
       "      <td>2012-11-06</td>\n",
       "      <td>5711.0</td>\n",
       "      <td>CD</td>\n",
       "      <td>0.0</td>\n",
       "      <td>-6.160528</td>\n",
       "      <td>53.286316</td>\n",
       "      <td>80.0</td>\n",
       "      <td>4002.0</td>\n",
       "      <td>43033.0</td>\n",
       "      <td>2051</td>\n",
       "      <td>0.0</td>\n",
       "      <td>1</td>\n",
       "    </tr>\n",
       "  </tbody>\n",
       "</table>\n",
       "</div>"
      ],
      "text/plain": [
       "      Timestamp  LineID  Direction  JourneyPatternID   TimeFrame  \\\n",
       "0  1.352183e+15     4.0          1           41001.0  2012-11-06   \n",
       "1  1.352183e+15     4.0          1           41001.0  2012-11-06   \n",
       "2  1.352184e+15     4.0          1           41001.0  2012-11-06   \n",
       "3  1.352184e+15     4.0          1           41001.0  2012-11-06   \n",
       "4  1.352184e+15     4.0          1           41001.0  2012-11-06   \n",
       "\n",
       "   VehicleJourneyID Operator  Congestion       Lon        Lat  Delay  BlockID  \\\n",
       "0            5711.0       CD         0.0 -6.153664  53.288544   46.0   4002.0   \n",
       "1            5711.0       CD         0.0 -6.154701  53.288208   46.0   4002.0   \n",
       "2            5711.0       CD         0.0 -6.158092  53.287102   63.0   4002.0   \n",
       "3            5711.0       CD         0.0 -6.153664  53.288544  126.0   4002.0   \n",
       "4            5711.0       CD         0.0 -6.160528  53.286316   80.0   4002.0   \n",
       "\n",
       "   VehicleID  StopID  AtStop  Instance  \n",
       "0    43033.0    7330     0.0         1  \n",
       "1    43033.0    7330     0.0         1  \n",
       "2    43033.0    7330     0.0         1  \n",
       "3    43033.0    7330     0.0         1  \n",
       "4    43033.0    2051     0.0         1  "
      ]
     },
     "execution_count": 21,
     "metadata": {},
     "output_type": "execute_result"
    }
   ],
   "source": [
    "complete.head()"
   ]
  },
  {
   "cell_type": "code",
   "execution_count": 22,
   "metadata": {
    "collapsed": false
   },
   "outputs": [],
   "source": [
    "complete.to_csv(\"./complete dfs/bus 4/4_1.csv\")"
   ]
  },
  {
   "cell_type": "code",
   "execution_count": 61,
   "metadata": {
    "collapsed": false,
    "scrolled": true
   },
   "outputs": [
    {
     "data": {
      "text/plain": [
       "array([1, 2], dtype=int64)"
      ]
     },
     "execution_count": 61,
     "metadata": {},
     "output_type": "execute_result"
    }
   ],
   "source": [
    "complete.Instance.unique()"
   ]
  },
  {
   "cell_type": "code",
   "execution_count": null,
   "metadata": {
    "collapsed": true
   },
   "outputs": [],
   "source": []
  },
  {
   "cell_type": "code",
   "execution_count": null,
   "metadata": {
    "collapsed": true
   },
   "outputs": [],
   "source": []
  }
 ],
 "metadata": {
  "anaconda-cloud": {},
  "kernelspec": {
   "display_name": "Python [conda root]",
   "language": "python",
   "name": "conda-root-py"
  },
  "language_info": {
   "codemirror_mode": {
    "name": "ipython",
    "version": 3
   },
   "file_extension": ".py",
   "mimetype": "text/x-python",
   "name": "python",
   "nbconvert_exporter": "python",
   "pygments_lexer": "ipython3",
   "version": "3.5.2"
  }
 },
 "nbformat": 4,
 "nbformat_minor": 1
}
