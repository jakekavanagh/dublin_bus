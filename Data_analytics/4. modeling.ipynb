{
 "cells": [
  {
   "cell_type": "code",
   "execution_count": 1,
   "metadata": {
    "collapsed": false
   },
   "outputs": [
    {
     "name": "stderr",
     "output_type": "stream",
     "text": [
      "C:\\Users\\jakek\\Anaconda3\\lib\\site-packages\\sklearn\\cross_validation.py:44: DeprecationWarning: This module was deprecated in version 0.18 in favor of the model_selection module into which all the refactored classes and functions are moved. Also note that the interface of the new CV iterators are different from that of this module. This module will be removed in 0.20.\n",
      "  \"This module will be removed in 0.20.\", DeprecationWarning)\n"
     ]
    }
   ],
   "source": [
    "import numpy as np\n",
    "import pandas as pd\n",
    "# import random as rnd\n",
    "# import seaborn as sns\n",
    "# import matplotlib.pyplot as plt\n",
    "# from patsy import dmatrices\n",
    "from sklearn.cross_validation import train_test_split\n",
    "from sklearn import metrics\n",
    "from sklearn.cross_validation import cross_val_score\n",
    "# from sklearn.tree import export_graphviz\n",
    "# from sklearn.tree import DecisionTreeClassifier\n",
    "from sklearn.ensemble import RandomForestClassifier\n",
    "from sklearn.ensemble import RandomForestRegressor\n",
    "\n",
    "# import winsound\n",
    "%matplotlib inline\n",
    "import datetime"
   ]
  },
  {
   "cell_type": "code",
   "execution_count": 2,
   "metadata": {
    "collapsed": true
   },
   "outputs": [],
   "source": [
    "file = 'twenty'"
   ]
  },
  {
   "cell_type": "code",
   "execution_count": 3,
   "metadata": {
    "collapsed": true
   },
   "outputs": [],
   "source": [
    "df_classif = pd.read_csv('complete dfs/Complete compile/'+file+'.csv',low_memory= False)"
   ]
  },
  {
   "cell_type": "code",
   "execution_count": 4,
   "metadata": {
    "collapsed": true
   },
   "outputs": [],
   "source": [
    "# df2.replace('Monday',1,inplace=True)\n",
    "# df2.replace('Tuesday',2,inplace=True)\n",
    "# df2.replace('Wednesday',3,inplace=True)\n",
    "# df2.replace('Thursday',4,inplace=True)\n",
    "# df2.replace('Friday',5,inplace=True)\n",
    "# df2.replace('Saturday',6,inplace=True)\n",
    "# df2.replace('Sunday',7,inplace=True)"
   ]
  },
  {
   "cell_type": "code",
   "execution_count": 5,
   "metadata": {
    "collapsed": false
   },
   "outputs": [],
   "source": [
    "# df_classif = pd.concat([df_classif,df2])\n"
   ]
  },
  {
   "cell_type": "code",
   "execution_count": 6,
   "metadata": {
    "collapsed": false
   },
   "outputs": [
    {
     "data": {
      "text/html": [
       "<div>\n",
       "<style>\n",
       "    .dataframe thead tr:only-child th {\n",
       "        text-align: right;\n",
       "    }\n",
       "\n",
       "    .dataframe thead th {\n",
       "        text-align: left;\n",
       "    }\n",
       "\n",
       "    .dataframe tbody tr th {\n",
       "        vertical-align: top;\n",
       "    }\n",
       "</style>\n",
       "<table border=\"1\" class=\"dataframe\">\n",
       "  <thead>\n",
       "    <tr style=\"text-align: right;\">\n",
       "      <th></th>\n",
       "      <th>Unnamed: 0</th>\n",
       "      <th>Unnamed: 0.1</th>\n",
       "      <th>Unnamed: 0.1.1</th>\n",
       "      <th>VehicleJourneyID</th>\n",
       "      <th>TimeFrame</th>\n",
       "      <th>StopID</th>\n",
       "      <th>Timestamp</th>\n",
       "      <th>AtStop</th>\n",
       "      <th>Instance</th>\n",
       "      <th>Direction</th>\n",
       "      <th>TimeToNextStop</th>\n",
       "      <th>Hour</th>\n",
       "      <th>Day</th>\n",
       "      <th>Avg</th>\n",
       "      <th>Summary</th>\n",
       "      <th>Temp</th>\n",
       "      <th>Rain</th>\n",
       "      <th>Wind_Speed</th>\n",
       "      <th>Route</th>\n",
       "    </tr>\n",
       "  </thead>\n",
       "  <tbody>\n",
       "    <tr>\n",
       "      <th>0</th>\n",
       "      <td>338576</td>\n",
       "      <td>15893</td>\n",
       "      <td>15893</td>\n",
       "      <td>6383.0</td>\n",
       "      <td>2012-11-29</td>\n",
       "      <td>7353</td>\n",
       "      <td>1.354179e+15</td>\n",
       "      <td>0.0</td>\n",
       "      <td>1</td>\n",
       "      <td>0</td>\n",
       "      <td>120.0</td>\n",
       "      <td>8</td>\n",
       "      <td>4</td>\n",
       "      <td>64.152174</td>\n",
       "      <td>Scattered Clouds</td>\n",
       "      <td>-1.0</td>\n",
       "      <td>0.0</td>\n",
       "      <td>11.0</td>\n",
       "      <td>46A</td>\n",
       "    </tr>\n",
       "    <tr>\n",
       "      <th>1</th>\n",
       "      <td>178592</td>\n",
       "      <td>69003</td>\n",
       "      <td>69003</td>\n",
       "      <td>6918.0</td>\n",
       "      <td>2013-01-08</td>\n",
       "      <td>1016</td>\n",
       "      <td>1.357631e+15</td>\n",
       "      <td>1.0</td>\n",
       "      <td>1</td>\n",
       "      <td>0</td>\n",
       "      <td>39.0</td>\n",
       "      <td>7</td>\n",
       "      <td>2</td>\n",
       "      <td>47.257143</td>\n",
       "      <td>Mostly Cloudy</td>\n",
       "      <td>12.0</td>\n",
       "      <td>0.0</td>\n",
       "      <td>20.0</td>\n",
       "      <td>140</td>\n",
       "    </tr>\n",
       "    <tr>\n",
       "      <th>2</th>\n",
       "      <td>106456</td>\n",
       "      <td>106456</td>\n",
       "      <td>106456</td>\n",
       "      <td>6600.0</td>\n",
       "      <td>2013-01-18</td>\n",
       "      <td>790</td>\n",
       "      <td>1.358514e+15</td>\n",
       "      <td>1.0</td>\n",
       "      <td>1</td>\n",
       "      <td>1</td>\n",
       "      <td>101.0</td>\n",
       "      <td>12</td>\n",
       "      <td>5</td>\n",
       "      <td>120.956522</td>\n",
       "      <td>Light Rain</td>\n",
       "      <td>2.0</td>\n",
       "      <td>1.0</td>\n",
       "      <td>50.0</td>\n",
       "      <td>46A</td>\n",
       "    </tr>\n",
       "    <tr>\n",
       "      <th>3</th>\n",
       "      <td>72782</td>\n",
       "      <td>10764</td>\n",
       "      <td>10764</td>\n",
       "      <td>3481.0</td>\n",
       "      <td>2013-01-14</td>\n",
       "      <td>7401</td>\n",
       "      <td>1.358156e+15</td>\n",
       "      <td>1.0</td>\n",
       "      <td>1</td>\n",
       "      <td>0</td>\n",
       "      <td>205.0</td>\n",
       "      <td>9</td>\n",
       "      <td>1</td>\n",
       "      <td>226.586207</td>\n",
       "      <td>Mostly Cloudy</td>\n",
       "      <td>4.0</td>\n",
       "      <td>0.0</td>\n",
       "      <td>25.0</td>\n",
       "      <td>747</td>\n",
       "    </tr>\n",
       "    <tr>\n",
       "      <th>4</th>\n",
       "      <td>68160</td>\n",
       "      <td>68160</td>\n",
       "      <td>68160</td>\n",
       "      <td>2224.0</td>\n",
       "      <td>2012-11-27</td>\n",
       "      <td>1730</td>\n",
       "      <td>1.354028e+15</td>\n",
       "      <td>0.0</td>\n",
       "      <td>1</td>\n",
       "      <td>1</td>\n",
       "      <td>20.0</td>\n",
       "      <td>14</td>\n",
       "      <td>2</td>\n",
       "      <td>24.900000</td>\n",
       "      <td>Partly Cloudy</td>\n",
       "      <td>7.0</td>\n",
       "      <td>0.0</td>\n",
       "      <td>20.0</td>\n",
       "      <td>130</td>\n",
       "    </tr>\n",
       "  </tbody>\n",
       "</table>\n",
       "</div>"
      ],
      "text/plain": [
       "   Unnamed: 0  Unnamed: 0.1  Unnamed: 0.1.1  VehicleJourneyID   TimeFrame  \\\n",
       "0      338576         15893           15893            6383.0  2012-11-29   \n",
       "1      178592         69003           69003            6918.0  2013-01-08   \n",
       "2      106456        106456          106456            6600.0  2013-01-18   \n",
       "3       72782         10764           10764            3481.0  2013-01-14   \n",
       "4       68160         68160           68160            2224.0  2012-11-27   \n",
       "\n",
       "   StopID     Timestamp  AtStop  Instance  Direction  TimeToNextStop  Hour  \\\n",
       "0    7353  1.354179e+15     0.0         1          0           120.0     8   \n",
       "1    1016  1.357631e+15     1.0         1          0            39.0     7   \n",
       "2     790  1.358514e+15     1.0         1          1           101.0    12   \n",
       "3    7401  1.358156e+15     1.0         1          0           205.0     9   \n",
       "4    1730  1.354028e+15     0.0         1          1            20.0    14   \n",
       "\n",
       "   Day         Avg           Summary  Temp  Rain  Wind_Speed Route  \n",
       "0    4   64.152174  Scattered Clouds  -1.0   0.0        11.0   46A  \n",
       "1    2   47.257143     Mostly Cloudy  12.0   0.0        20.0   140  \n",
       "2    5  120.956522        Light Rain   2.0   1.0        50.0   46A  \n",
       "3    1  226.586207     Mostly Cloudy   4.0   0.0        25.0   747  \n",
       "4    2   24.900000     Partly Cloudy   7.0   0.0        20.0   130  "
      ]
     },
     "execution_count": 6,
     "metadata": {},
     "output_type": "execute_result"
    }
   ],
   "source": [
    "df_classif.head()"
   ]
  },
  {
   "cell_type": "code",
   "execution_count": 7,
   "metadata": {
    "collapsed": false
   },
   "outputs": [],
   "source": [
    "df_classif.replace('Clear',1,inplace=True)\n",
    "df_classif.replace('Fog',2,inplace=True)\n",
    "df_classif.replace('Light Drizzle',3,inplace=True)\n",
    "df_classif.replace('Light Rain',4,inplace=True)\n",
    "df_classif.replace('Light Rain Showers',5,inplace=True)\n",
    "df_classif.replace('Light Small Hail Showers',6,inplace=True)\n",
    "df_classif.replace('Light Snow Showers',7,inplace=True)\n",
    "df_classif.replace('Mostly Cloudy',8,inplace=True)\n",
    "df_classif.replace('Overcast',9,inplace=True)\n",
    "df_classif.replace('Partly Cloudy',10,inplace=True)\n",
    "df_classif.replace('Patches of Fog',11,inplace=True)\n",
    "df_classif.replace('Rain',12,inplace=True)\n",
    "df_classif.replace('Scattered Clouds',13,inplace=True)\n",
    "df_classif.replace('Shallow Fog',14,inplace=True)"
   ]
  },
  {
   "cell_type": "code",
   "execution_count": 8,
   "metadata": {
    "collapsed": false
   },
   "outputs": [
    {
     "data": {
      "text/plain": [
       "array([0, 1], dtype=int64)"
      ]
     },
     "execution_count": 8,
     "metadata": {},
     "output_type": "execute_result"
    }
   ],
   "source": [
    "df_classif.Direction.unique()"
   ]
  },
  {
   "cell_type": "code",
   "execution_count": 9,
   "metadata": {
    "collapsed": false
   },
   "outputs": [],
   "source": [
    "df_classif=df_classif[df_classif.Avg > 0]\n",
    "df_classif=df_classif[df_classif.TimeToNextStop> 0]"
   ]
  },
  {
   "cell_type": "code",
   "execution_count": 44,
   "metadata": {
    "collapsed": true
   },
   "outputs": [],
   "source": [
    "def mins(x):\n",
    "    x = x/1000000\n",
    "    date = datetime.datetime.fromtimestamp(x).strftime(\"%H, %M\")\n",
    "    hour, minute = date.split(', ')\n",
    "    date = hour+'.'+minute\n",
    "    return(float(date))"
   ]
  },
  {
   "cell_type": "code",
   "execution_count": 45,
   "metadata": {
    "collapsed": false
   },
   "outputs": [],
   "source": [
    "\n",
    "df_classif['mins'] = df_classif.apply(lambda row: mins(row['Timestamp']), axis=1)"
   ]
  },
  {
   "cell_type": "code",
   "execution_count": null,
   "metadata": {
    "collapsed": true
   },
   "outputs": [],
   "source": []
  },
  {
   "cell_type": "code",
   "execution_count": 46,
   "metadata": {
    "collapsed": false
   },
   "outputs": [
    {
     "data": {
      "text/html": [
       "<div>\n",
       "<style>\n",
       "    .dataframe thead tr:only-child th {\n",
       "        text-align: right;\n",
       "    }\n",
       "\n",
       "    .dataframe thead th {\n",
       "        text-align: left;\n",
       "    }\n",
       "\n",
       "    .dataframe tbody tr th {\n",
       "        vertical-align: top;\n",
       "    }\n",
       "</style>\n",
       "<table border=\"1\" class=\"dataframe\">\n",
       "  <thead>\n",
       "    <tr style=\"text-align: right;\">\n",
       "      <th></th>\n",
       "      <th>Unnamed: 0</th>\n",
       "      <th>Unnamed: 0.1</th>\n",
       "      <th>Unnamed: 0.1.1</th>\n",
       "      <th>VehicleJourneyID</th>\n",
       "      <th>TimeFrame</th>\n",
       "      <th>StopID</th>\n",
       "      <th>Timestamp</th>\n",
       "      <th>AtStop</th>\n",
       "      <th>Instance</th>\n",
       "      <th>Direction</th>\n",
       "      <th>TimeToNextStop</th>\n",
       "      <th>Hour</th>\n",
       "      <th>Day</th>\n",
       "      <th>Avg</th>\n",
       "      <th>Summary</th>\n",
       "      <th>Temp</th>\n",
       "      <th>Rain</th>\n",
       "      <th>Wind_Speed</th>\n",
       "      <th>Route</th>\n",
       "      <th>mins</th>\n",
       "    </tr>\n",
       "  </thead>\n",
       "  <tbody>\n",
       "    <tr>\n",
       "      <th>0</th>\n",
       "      <td>338576</td>\n",
       "      <td>15893</td>\n",
       "      <td>15893</td>\n",
       "      <td>6383.0</td>\n",
       "      <td>2012-11-29</td>\n",
       "      <td>7353.0</td>\n",
       "      <td>1.354178e+15</td>\n",
       "      <td>0.0</td>\n",
       "      <td>1</td>\n",
       "      <td>0.0</td>\n",
       "      <td>120.0</td>\n",
       "      <td>8</td>\n",
       "      <td>4.0</td>\n",
       "      <td>64.152176</td>\n",
       "      <td>13.0</td>\n",
       "      <td>-1.0</td>\n",
       "      <td>0.0</td>\n",
       "      <td>11.0</td>\n",
       "      <td>46A</td>\n",
       "      <td>8.41</td>\n",
       "    </tr>\n",
       "    <tr>\n",
       "      <th>1</th>\n",
       "      <td>178592</td>\n",
       "      <td>69003</td>\n",
       "      <td>69003</td>\n",
       "      <td>6918.0</td>\n",
       "      <td>2013-01-08</td>\n",
       "      <td>1016.0</td>\n",
       "      <td>1.357631e+15</td>\n",
       "      <td>1.0</td>\n",
       "      <td>1</td>\n",
       "      <td>0.0</td>\n",
       "      <td>39.0</td>\n",
       "      <td>7</td>\n",
       "      <td>2.0</td>\n",
       "      <td>47.257141</td>\n",
       "      <td>8.0</td>\n",
       "      <td>12.0</td>\n",
       "      <td>0.0</td>\n",
       "      <td>20.0</td>\n",
       "      <td>140</td>\n",
       "      <td>7.49</td>\n",
       "    </tr>\n",
       "    <tr>\n",
       "      <th>2</th>\n",
       "      <td>106456</td>\n",
       "      <td>106456</td>\n",
       "      <td>106456</td>\n",
       "      <td>6600.0</td>\n",
       "      <td>2013-01-18</td>\n",
       "      <td>790.0</td>\n",
       "      <td>1.358514e+15</td>\n",
       "      <td>1.0</td>\n",
       "      <td>1</td>\n",
       "      <td>1.0</td>\n",
       "      <td>101.0</td>\n",
       "      <td>12</td>\n",
       "      <td>5.0</td>\n",
       "      <td>120.956520</td>\n",
       "      <td>4.0</td>\n",
       "      <td>2.0</td>\n",
       "      <td>1.0</td>\n",
       "      <td>50.0</td>\n",
       "      <td>46A</td>\n",
       "      <td>12.57</td>\n",
       "    </tr>\n",
       "    <tr>\n",
       "      <th>3</th>\n",
       "      <td>72782</td>\n",
       "      <td>10764</td>\n",
       "      <td>10764</td>\n",
       "      <td>3481.0</td>\n",
       "      <td>2013-01-14</td>\n",
       "      <td>7401.0</td>\n",
       "      <td>1.358156e+15</td>\n",
       "      <td>1.0</td>\n",
       "      <td>1</td>\n",
       "      <td>0.0</td>\n",
       "      <td>205.0</td>\n",
       "      <td>9</td>\n",
       "      <td>1.0</td>\n",
       "      <td>226.586212</td>\n",
       "      <td>8.0</td>\n",
       "      <td>4.0</td>\n",
       "      <td>0.0</td>\n",
       "      <td>25.0</td>\n",
       "      <td>747</td>\n",
       "      <td>9.40</td>\n",
       "    </tr>\n",
       "    <tr>\n",
       "      <th>4</th>\n",
       "      <td>68160</td>\n",
       "      <td>68160</td>\n",
       "      <td>68160</td>\n",
       "      <td>2224.0</td>\n",
       "      <td>2012-11-27</td>\n",
       "      <td>1730.0</td>\n",
       "      <td>1.354028e+15</td>\n",
       "      <td>0.0</td>\n",
       "      <td>1</td>\n",
       "      <td>1.0</td>\n",
       "      <td>20.0</td>\n",
       "      <td>14</td>\n",
       "      <td>2.0</td>\n",
       "      <td>24.900000</td>\n",
       "      <td>10.0</td>\n",
       "      <td>7.0</td>\n",
       "      <td>0.0</td>\n",
       "      <td>20.0</td>\n",
       "      <td>130</td>\n",
       "      <td>14.51</td>\n",
       "    </tr>\n",
       "  </tbody>\n",
       "</table>\n",
       "</div>"
      ],
      "text/plain": [
       "   Unnamed: 0  Unnamed: 0.1  Unnamed: 0.1.1  VehicleJourneyID   TimeFrame  \\\n",
       "0      338576         15893           15893            6383.0  2012-11-29   \n",
       "1      178592         69003           69003            6918.0  2013-01-08   \n",
       "2      106456        106456          106456            6600.0  2013-01-18   \n",
       "3       72782         10764           10764            3481.0  2013-01-14   \n",
       "4       68160         68160           68160            2224.0  2012-11-27   \n",
       "\n",
       "   StopID     Timestamp  AtStop  Instance  Direction  TimeToNextStop  Hour  \\\n",
       "0  7353.0  1.354178e+15     0.0         1        0.0           120.0     8   \n",
       "1  1016.0  1.357631e+15     1.0         1        0.0            39.0     7   \n",
       "2   790.0  1.358514e+15     1.0         1        1.0           101.0    12   \n",
       "3  7401.0  1.358156e+15     1.0         1        0.0           205.0     9   \n",
       "4  1730.0  1.354028e+15     0.0         1        1.0            20.0    14   \n",
       "\n",
       "   Day         Avg  Summary  Temp  Rain  Wind_Speed Route   mins  \n",
       "0  4.0   64.152176     13.0  -1.0   0.0        11.0   46A   8.41  \n",
       "1  2.0   47.257141      8.0  12.0   0.0        20.0   140   7.49  \n",
       "2  5.0  120.956520      4.0   2.0   1.0        50.0   46A  12.57  \n",
       "3  1.0  226.586212      8.0   4.0   0.0        25.0   747   9.40  \n",
       "4  2.0   24.900000     10.0   7.0   0.0        20.0   130  14.51  "
      ]
     },
     "execution_count": 46,
     "metadata": {},
     "output_type": "execute_result"
    }
   ],
   "source": [
    "df_classif[['VehicleJourneyID','StopID','Timestamp','AtStop','Avg','TimeToNextStop','Day','Summary','Temp','Rain','Wind_Speed', 'Direction', 'mins']] = df_classif[['VehicleJourneyID','StopID','Timestamp','AtStop','Avg','TimeToNextStop','Day','Summary','Temp','Rain','Wind_Speed', 'Direction', 'mins']].astype(np.float32)\n",
    "df_classif=df_classif.dropna()\n",
    "df_classif.head()"
   ]
  },
  {
   "cell_type": "code",
   "execution_count": 47,
   "metadata": {
    "collapsed": false,
    "scrolled": true
   },
   "outputs": [],
   "source": [
    "# num = []\n",
    "# for i in df_classif['Route'].unique():\n",
    "#     try:\n",
    "#         int(i)\n",
    "#         num += [i]\n",
    "#     except:\n",
    "#         print(i, \"is not int\")"
   ]
  },
  {
   "cell_type": "code",
   "execution_count": 48,
   "metadata": {
    "collapsed": false
   },
   "outputs": [],
   "source": [
    "# testroute = df_classif.loc[df_classif['Route'] == num[0]]\n",
    "# for i in num:\n",
    "#     if i != num[0]:\n",
    "#         testroute = pd.concat([testroute, df_classif.loc[df_classif['Route'] == i]]) "
   ]
  },
  {
   "cell_type": "code",
   "execution_count": 49,
   "metadata": {
    "collapsed": false
   },
   "outputs": [
    {
     "data": {
      "text/html": [
       "<div>\n",
       "<style>\n",
       "    .dataframe thead tr:only-child th {\n",
       "        text-align: right;\n",
       "    }\n",
       "\n",
       "    .dataframe thead th {\n",
       "        text-align: left;\n",
       "    }\n",
       "\n",
       "    .dataframe tbody tr th {\n",
       "        vertical-align: top;\n",
       "    }\n",
       "</style>\n",
       "<table border=\"1\" class=\"dataframe\">\n",
       "  <thead>\n",
       "    <tr style=\"text-align: right;\">\n",
       "      <th></th>\n",
       "      <th>StopID</th>\n",
       "      <th>AtStop</th>\n",
       "      <th>Day</th>\n",
       "      <th>mins</th>\n",
       "    </tr>\n",
       "  </thead>\n",
       "  <tbody>\n",
       "    <tr>\n",
       "      <th>0</th>\n",
       "      <td>7353.0</td>\n",
       "      <td>0.0</td>\n",
       "      <td>4.0</td>\n",
       "      <td>8.41</td>\n",
       "    </tr>\n",
       "    <tr>\n",
       "      <th>1</th>\n",
       "      <td>1016.0</td>\n",
       "      <td>1.0</td>\n",
       "      <td>2.0</td>\n",
       "      <td>7.49</td>\n",
       "    </tr>\n",
       "    <tr>\n",
       "      <th>2</th>\n",
       "      <td>790.0</td>\n",
       "      <td>1.0</td>\n",
       "      <td>5.0</td>\n",
       "      <td>12.57</td>\n",
       "    </tr>\n",
       "    <tr>\n",
       "      <th>3</th>\n",
       "      <td>7401.0</td>\n",
       "      <td>1.0</td>\n",
       "      <td>1.0</td>\n",
       "      <td>9.40</td>\n",
       "    </tr>\n",
       "    <tr>\n",
       "      <th>4</th>\n",
       "      <td>1730.0</td>\n",
       "      <td>0.0</td>\n",
       "      <td>2.0</td>\n",
       "      <td>14.51</td>\n",
       "    </tr>\n",
       "  </tbody>\n",
       "</table>\n",
       "</div>"
      ],
      "text/plain": [
       "   StopID  AtStop  Day   mins\n",
       "0  7353.0     0.0  4.0   8.41\n",
       "1  1016.0     1.0  2.0   7.49\n",
       "2   790.0     1.0  5.0  12.57\n",
       "3  7401.0     1.0  1.0   9.40\n",
       "4  1730.0     0.0  2.0  14.51"
      ]
     },
     "execution_count": 49,
     "metadata": {},
     "output_type": "execute_result"
    }
   ],
   "source": [
    "df_cont_feat = df_classif[['Avg','Temp']]\n",
    "df_dummies_broadband = df_classif[['StopID','AtStop','Day', 'mins']]\n",
    "df_dummies_broadband.head()"
   ]
  },
  {
   "cell_type": "code",
   "execution_count": 50,
   "metadata": {
    "collapsed": true
   },
   "outputs": [],
   "source": [
    "X = pd.concat([df_cont_feat, df_dummies_broadband[['StopID','AtStop','Day', 'mins']]], axis =1)\n",
    "y = df_classif.TimeToNextStop"
   ]
  },
  {
   "cell_type": "code",
   "execution_count": 51,
   "metadata": {
    "collapsed": true
   },
   "outputs": [],
   "source": [
    "from sklearn import preprocessing\n",
    "from sklearn import utils\n",
    "\n",
    "lab_enc = preprocessing.LabelEncoder()\n",
    "y = lab_enc.fit_transform(y)"
   ]
  },
  {
   "cell_type": "code",
   "execution_count": 52,
   "metadata": {
    "collapsed": true
   },
   "outputs": [],
   "source": [
    "rfr = RandomForestRegressor(n_estimators=15, max_features='auto', max_depth=50, oob_score=True, random_state=1, min_samples_split=100)"
   ]
  },
  {
   "cell_type": "code",
   "execution_count": 53,
   "metadata": {
    "collapsed": false
   },
   "outputs": [],
   "source": [
    "X_train, X_test, y_train, y_test = train_test_split(X, y, test_size=0.3)\n"
   ]
  },
  {
   "cell_type": "code",
   "execution_count": 54,
   "metadata": {
    "collapsed": false
   },
   "outputs": [
    {
     "name": "stderr",
     "output_type": "stream",
     "text": [
      "C:\\Users\\jakek\\Anaconda3\\lib\\site-packages\\sklearn\\ensemble\\forest.py:723: UserWarning: Some inputs do not have OOB scores. This probably means too few trees were used to compute any reliable oob estimates.\n",
      "  warn(\"Some inputs do not have OOB scores. \"\n"
     ]
    },
    {
     "data": {
      "text/plain": [
       "RandomForestRegressor(bootstrap=True, criterion='mse', max_depth=50,\n",
       "           max_features='auto', max_leaf_nodes=None,\n",
       "           min_impurity_split=1e-07, min_samples_leaf=1,\n",
       "           min_samples_split=100, min_weight_fraction_leaf=0.0,\n",
       "           n_estimators=15, n_jobs=1, oob_score=True, random_state=1,\n",
       "           verbose=0, warm_start=False)"
      ]
     },
     "execution_count": 54,
     "metadata": {},
     "output_type": "execute_result"
    }
   ],
   "source": [
    "rfr.fit(X_train, y_train)\n"
   ]
  },
  {
   "cell_type": "code",
   "execution_count": 55,
   "metadata": {
    "collapsed": false
   },
   "outputs": [
    {
     "data": {
      "text/html": [
       "<div>\n",
       "<style>\n",
       "    .dataframe thead tr:only-child th {\n",
       "        text-align: right;\n",
       "    }\n",
       "\n",
       "    .dataframe thead th {\n",
       "        text-align: left;\n",
       "    }\n",
       "\n",
       "    .dataframe tbody tr th {\n",
       "        vertical-align: top;\n",
       "    }\n",
       "</style>\n",
       "<table border=\"1\" class=\"dataframe\">\n",
       "  <thead>\n",
       "    <tr style=\"text-align: right;\">\n",
       "      <th></th>\n",
       "      <th>Actual</th>\n",
       "      <th>Predicte</th>\n",
       "    </tr>\n",
       "  </thead>\n",
       "  <tbody>\n",
       "    <tr>\n",
       "      <th>0</th>\n",
       "      <td>239</td>\n",
       "      <td>159.534784</td>\n",
       "    </tr>\n",
       "    <tr>\n",
       "      <th>1</th>\n",
       "      <td>17</td>\n",
       "      <td>23.292110</td>\n",
       "    </tr>\n",
       "    <tr>\n",
       "      <th>2</th>\n",
       "      <td>20</td>\n",
       "      <td>24.732061</td>\n",
       "    </tr>\n",
       "    <tr>\n",
       "      <th>3</th>\n",
       "      <td>62</td>\n",
       "      <td>68.099737</td>\n",
       "    </tr>\n",
       "    <tr>\n",
       "      <th>4</th>\n",
       "      <td>99</td>\n",
       "      <td>121.876480</td>\n",
       "    </tr>\n",
       "  </tbody>\n",
       "</table>\n",
       "</div>"
      ],
      "text/plain": [
       "   Actual    Predicte\n",
       "0     239  159.534784\n",
       "1      17   23.292110\n",
       "2      20   24.732061\n",
       "3      62   68.099737\n",
       "4      99  121.876480"
      ]
     },
     "execution_count": 55,
     "metadata": {},
     "output_type": "execute_result"
    }
   ],
   "source": [
    "rfr_predictions_test = rfr.predict(X_test)\n",
    "df_true_vs_rfr_predicted_test = pd.DataFrame({'Actual': y_test, 'Predicte': rfr_predictions_test})\n",
    "df_true_vs_rfr_predicted_test.head()"
   ]
  },
  {
   "cell_type": "code",
   "execution_count": 22,
   "metadata": {
    "collapsed": false
   },
   "outputs": [
    {
     "ename": "NameError",
     "evalue": "name 'rfc_predictions_test' is not defined",
     "output_type": "error",
     "traceback": [
      "\u001b[0;31m---------------------------------------------------------------------------\u001b[0m",
      "\u001b[0;31mNameError\u001b[0m                                 Traceback (most recent call last)",
      "\u001b[0;32m<ipython-input-22-4541dda5ccb0>\u001b[0m in \u001b[0;36m<module>\u001b[0;34m()\u001b[0m\n\u001b[0;32m----> 1\u001b[0;31m \u001b[0mprint\u001b[0m\u001b[1;33m(\u001b[0m\u001b[1;34m\"Accuracy: \"\u001b[0m\u001b[1;33m,\u001b[0m \u001b[0mmetrics\u001b[0m\u001b[1;33m.\u001b[0m\u001b[0maccuracy_score\u001b[0m\u001b[1;33m(\u001b[0m\u001b[0my_test\u001b[0m\u001b[1;33m,\u001b[0m \u001b[0mrfc_predictions_test\u001b[0m\u001b[1;33m)\u001b[0m\u001b[1;33m)\u001b[0m\u001b[1;33m\u001b[0m\u001b[0m\n\u001b[0m",
      "\u001b[0;31mNameError\u001b[0m: name 'rfc_predictions_test' is not defined"
     ]
    }
   ],
   "source": [
    "print(\"Accuracy: \", metrics.accuracy_score(y_test, rfc_predictions_test))\n"
   ]
  },
  {
   "cell_type": "code",
   "execution_count": 56,
   "metadata": {
    "collapsed": false
   },
   "outputs": [
    {
     "name": "stdout",
     "output_type": "stream",
     "text": [
      "0.6882650471279577\n"
     ]
    }
   ],
   "source": [
    "new4=abs(df_true_vs_rfr_predicted_test.Actual-df_true_vs_rfr_predicted_test.Predicte)\n",
    "\n",
    "total=0\n",
    "for i in new4:\n",
    "    if i<=20:\n",
    "        total+=1\n",
    "accuracy=(total/len(new4))\n",
    "print(accuracy)"
   ]
  },
  {
   "cell_type": "code",
   "execution_count": 57,
   "metadata": {
    "collapsed": false
   },
   "outputs": [
    {
     "data": {
      "text/html": [
       "<div>\n",
       "<style>\n",
       "    .dataframe thead tr:only-child th {\n",
       "        text-align: right;\n",
       "    }\n",
       "\n",
       "    .dataframe thead th {\n",
       "        text-align: left;\n",
       "    }\n",
       "\n",
       "    .dataframe tbody tr th {\n",
       "        vertical-align: top;\n",
       "    }\n",
       "</style>\n",
       "<table border=\"1\" class=\"dataframe\">\n",
       "  <thead>\n",
       "    <tr style=\"text-align: right;\">\n",
       "      <th></th>\n",
       "      <th>feature</th>\n",
       "      <th>importance</th>\n",
       "    </tr>\n",
       "  </thead>\n",
       "  <tbody>\n",
       "    <tr>\n",
       "      <th>0</th>\n",
       "      <td>Avg</td>\n",
       "      <td>0.915014</td>\n",
       "    </tr>\n",
       "    <tr>\n",
       "      <th>1</th>\n",
       "      <td>Temp</td>\n",
       "      <td>0.005971</td>\n",
       "    </tr>\n",
       "    <tr>\n",
       "      <th>2</th>\n",
       "      <td>StopID</td>\n",
       "      <td>0.026076</td>\n",
       "    </tr>\n",
       "    <tr>\n",
       "      <th>3</th>\n",
       "      <td>AtStop</td>\n",
       "      <td>0.022906</td>\n",
       "    </tr>\n",
       "    <tr>\n",
       "      <th>4</th>\n",
       "      <td>Day</td>\n",
       "      <td>0.006518</td>\n",
       "    </tr>\n",
       "    <tr>\n",
       "      <th>5</th>\n",
       "      <td>mins</td>\n",
       "      <td>0.023514</td>\n",
       "    </tr>\n",
       "  </tbody>\n",
       "</table>\n",
       "</div>"
      ],
      "text/plain": [
       "  feature  importance\n",
       "0     Avg    0.915014\n",
       "1    Temp    0.005971\n",
       "2  StopID    0.026076\n",
       "3  AtStop    0.022906\n",
       "4     Day    0.006518\n",
       "5    mins    0.023514"
      ]
     },
     "execution_count": 57,
     "metadata": {},
     "output_type": "execute_result"
    }
   ],
   "source": [
    "pd.DataFrame({'feature': X_test.columns, 'importance':rfr.feature_importances_})"
   ]
  },
  {
   "cell_type": "code",
   "execution_count": 58,
   "metadata": {
    "collapsed": false
   },
   "outputs": [
    {
     "data": {
      "text/plain": [
       "['pickled rf/twentyextra time feature']"
      ]
     },
     "execution_count": 58,
     "metadata": {},
     "output_type": "execute_result"
    }
   ],
   "source": [
    "from sklearn.externals import joblib\n",
    "joblib.dump(rfr, 'pickled rf/'+file+'extra time feature', compress=False)"
   ]
  },
  {
   "cell_type": "code",
   "execution_count": null,
   "metadata": {
    "collapsed": false
   },
   "outputs": [],
   "source": [
    "import sys\n",
    "sys.getsizeof(rfr)"
   ]
  },
  {
   "cell_type": "code",
   "execution_count": 59,
   "metadata": {
    "collapsed": false
   },
   "outputs": [
    {
     "data": {
      "text/html": [
       "<div>\n",
       "<style>\n",
       "    .dataframe thead tr:only-child th {\n",
       "        text-align: right;\n",
       "    }\n",
       "\n",
       "    .dataframe thead th {\n",
       "        text-align: left;\n",
       "    }\n",
       "\n",
       "    .dataframe tbody tr th {\n",
       "        vertical-align: top;\n",
       "    }\n",
       "</style>\n",
       "<table border=\"1\" class=\"dataframe\">\n",
       "  <thead>\n",
       "    <tr style=\"text-align: right;\">\n",
       "      <th></th>\n",
       "      <th>Avg</th>\n",
       "      <th>Temp</th>\n",
       "      <th>StopID</th>\n",
       "      <th>AtStop</th>\n",
       "      <th>Day</th>\n",
       "      <th>mins</th>\n",
       "    </tr>\n",
       "  </thead>\n",
       "  <tbody>\n",
       "    <tr>\n",
       "      <th>804025</th>\n",
       "      <td>150.000000</td>\n",
       "      <td>10.0</td>\n",
       "      <td>4348.0</td>\n",
       "      <td>1.0</td>\n",
       "      <td>4.0</td>\n",
       "      <td>16.18</td>\n",
       "    </tr>\n",
       "    <tr>\n",
       "      <th>2341592</th>\n",
       "      <td>30.000000</td>\n",
       "      <td>2.0</td>\n",
       "      <td>1196.0</td>\n",
       "      <td>0.0</td>\n",
       "      <td>3.0</td>\n",
       "      <td>18.16</td>\n",
       "    </tr>\n",
       "    <tr>\n",
       "      <th>604416</th>\n",
       "      <td>33.312500</td>\n",
       "      <td>11.0</td>\n",
       "      <td>410.0</td>\n",
       "      <td>0.0</td>\n",
       "      <td>1.0</td>\n",
       "      <td>12.21</td>\n",
       "    </tr>\n",
       "    <tr>\n",
       "      <th>1361175</th>\n",
       "      <td>71.000000</td>\n",
       "      <td>3.0</td>\n",
       "      <td>4276.0</td>\n",
       "      <td>0.0</td>\n",
       "      <td>4.0</td>\n",
       "      <td>9.24</td>\n",
       "    </tr>\n",
       "    <tr>\n",
       "      <th>537510</th>\n",
       "      <td>123.727272</td>\n",
       "      <td>6.0</td>\n",
       "      <td>3663.0</td>\n",
       "      <td>0.0</td>\n",
       "      <td>6.0</td>\n",
       "      <td>12.36</td>\n",
       "    </tr>\n",
       "  </tbody>\n",
       "</table>\n",
       "</div>"
      ],
      "text/plain": [
       "                Avg  Temp  StopID  AtStop  Day   mins\n",
       "804025   150.000000  10.0  4348.0     1.0  4.0  16.18\n",
       "2341592   30.000000   2.0  1196.0     0.0  3.0  18.16\n",
       "604416    33.312500  11.0   410.0     0.0  1.0  12.21\n",
       "1361175   71.000000   3.0  4276.0     0.0  4.0   9.24\n",
       "537510   123.727272   6.0  3663.0     0.0  6.0  12.36"
      ]
     },
     "execution_count": 59,
     "metadata": {},
     "output_type": "execute_result"
    }
   ],
   "source": [
    "X_test.head()"
   ]
  },
  {
   "cell_type": "code",
   "execution_count": 24,
   "metadata": {
    "collapsed": false
   },
   "outputs": [
    {
     "ename": "KeyboardInterrupt",
     "evalue": "",
     "output_type": "error",
     "traceback": [
      "\u001b[0;31m---------------------------------------------------------------------------\u001b[0m",
      "\u001b[0;31mKeyboardInterrupt\u001b[0m                         Traceback (most recent call last)",
      "\u001b[0;32m<ipython-input-24-d4cbb7c38bad>\u001b[0m in \u001b[0;36m<module>\u001b[0;34m()\u001b[0m\n\u001b[1;32m      1\u001b[0m \u001b[1;32mimport\u001b[0m \u001b[0mwinsound\u001b[0m\u001b[1;33m\u001b[0m\u001b[0m\n\u001b[1;32m      2\u001b[0m \u001b[1;32mwhile\u001b[0m \u001b[1;32mTrue\u001b[0m\u001b[1;33m:\u001b[0m\u001b[1;33m\u001b[0m\u001b[0m\n\u001b[0;32m----> 3\u001b[0;31m     \u001b[0mwinsound\u001b[0m\u001b[1;33m.\u001b[0m\u001b[0mBeep\u001b[0m\u001b[1;33m(\u001b[0m\u001b[1;36m17000\u001b[0m\u001b[1;33m,\u001b[0m \u001b[1;36m1000\u001b[0m\u001b[1;33m)\u001b[0m\u001b[1;33m\u001b[0m\u001b[0m\n\u001b[0m",
      "\u001b[0;31mKeyboardInterrupt\u001b[0m: "
     ]
    }
   ],
   "source": [
    "import winsound\n",
    "while True:\n",
    "    winsound.Beep(17000, 1000)"
   ]
  },
  {
   "cell_type": "code",
   "execution_count": null,
   "metadata": {
    "collapsed": true
   },
   "outputs": [],
   "source": [
    "# df_classif = df_classif.sample(frac=0.4)"
   ]
  },
  {
   "cell_type": "code",
   "execution_count": null,
   "metadata": {
    "collapsed": false
   },
   "outputs": [],
   "source": [
    "train, test = train_test_split(df_classif, test_size=0.2)\n",
    "train = train.sample(frac=0.4)"
   ]
  },
  {
   "cell_type": "code",
   "execution_count": null,
   "metadata": {
    "collapsed": false
   },
   "outputs": [],
   "source": [
    "train_X = train[['Avg','Temp', 'StopID','AtStop','Day','Hour']]\n",
    "train_Y = train.TimeToNextStop\n",
    "test_X = test[['Avg','Temp', 'StopID','AtStop','Day','Hour']]\n",
    "test_Y = test.TimeToNextStop"
   ]
  },
  {
   "cell_type": "code",
   "execution_count": null,
   "metadata": {
    "collapsed": false
   },
   "outputs": [],
   "source": [
    "lab_enc = preprocessing.LabelEncoder()\n",
    "train_Y = lab_enc.fit_transform(train_Y)\n",
    "test_Y = lab_enc.fit_transform(test_Y)"
   ]
  },
  {
   "cell_type": "code",
   "execution_count": null,
   "metadata": {
    "collapsed": false
   },
   "outputs": [],
   "source": [
    "rfc.fit(train_X, train_Y)"
   ]
  },
  {
   "cell_type": "code",
   "execution_count": null,
   "metadata": {
    "collapsed": true
   },
   "outputs": [],
   "source": [
    "rfc_predictions_test = rfc.predict(test_X)"
   ]
  },
  {
   "cell_type": "code",
   "execution_count": null,
   "metadata": {
    "collapsed": false
   },
   "outputs": [],
   "source": [
    "df_true_vs_rfc_predicted_test = pd.DataFrame({'Actual': test_Y, 'Predicte': rfc_predictions_test})\n",
    "df_true_vs_rfc_predicted_test.head()"
   ]
  },
  {
   "cell_type": "code",
   "execution_count": null,
   "metadata": {
    "collapsed": false
   },
   "outputs": [],
   "source": [
    "print(\"Accuracy: \", metrics.accuracy_score(test_Y, rfc_predictions_test))\n",
    "new4=abs(df_true_vs_rfc_predicted_test.Actual-df_true_vs_rfc_predicted_test.Predicte)\n",
    "\n",
    "total=0\n",
    "for i in new4:\n",
    "    if i<=20:\n",
    "        total+=1\n",
    "accuracy=(total/len(new4))\n",
    "print(accuracy)"
   ]
  },
  {
   "cell_type": "code",
   "execution_count": null,
   "metadata": {
    "collapsed": false
   },
   "outputs": [],
   "source": [
    "joblib.dump(rfc, 'pickled rf/'+file+' 40percentoftrain.pkl', compress=True)"
   ]
  },
  {
   "cell_type": "code",
   "execution_count": null,
   "metadata": {
    "collapsed": true
   },
   "outputs": [],
   "source": []
  }
 ],
 "metadata": {
  "anaconda-cloud": {},
  "kernelspec": {
   "display_name": "Python [conda root]",
   "language": "python",
   "name": "conda-root-py"
  },
  "language_info": {
   "codemirror_mode": {
    "name": "ipython",
    "version": 3
   },
   "file_extension": ".py",
   "mimetype": "text/x-python",
   "name": "python",
   "nbconvert_exporter": "python",
   "pygments_lexer": "ipython3",
   "version": "3.5.2"
  }
 },
 "nbformat": 4,
 "nbformat_minor": 1
}
