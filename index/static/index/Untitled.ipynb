{
 "cells": [
  {
   "cell_type": "code",
   "execution_count": 27,
   "metadata": {
    "collapsed": true
   },
   "outputs": [],
   "source": [
    "import json\n"
   ]
  },
  {
   "cell_type": "code",
   "execution_count": null,
   "metadata": {
    "collapsed": true
   },
   "outputs": [],
   "source": []
  },
  {
   "cell_type": "code",
   "execution_count": null,
   "metadata": {
    "collapsed": true
   },
   "outputs": [],
   "source": []
  },
  {
   "cell_type": "code",
   "execution_count": null,
   "metadata": {
    "collapsed": true
   },
   "outputs": [],
   "source": []
  },
  {
   "cell_type": "code",
   "execution_count": null,
   "metadata": {
    "collapsed": true
   },
   "outputs": [],
   "source": []
  },
  {
   "cell_type": "code",
   "execution_count": 28,
   "metadata": {
    "collapsed": false
   },
   "outputs": [],
   "source": [
    "with open('stops in order updated.json') as data_file:\n",
    "    dicty = json.load(data_file)\n",
    "with open('new lats and longs.json') as data_file:\n",
    "    locations = json.load(data_file)"
   ]
  },
  {
   "cell_type": "code",
   "execution_count": 29,
   "metadata": {
    "collapsed": false
   },
   "outputs": [
    {
     "name": "stdout",
     "output_type": "stream",
     "text": [
      "32X 0 6087\n",
      "068 1 3415\n",
      "29A 1 7551\n",
      "29A 1 4800\n",
      "29A 1 5157\n",
      "29A 1 5154\n",
      "29A 1 4804\n",
      "29A 0 5160\n",
      "29A 0 5155\n",
      "29A 0 4806\n",
      "29A 0 5156\n",
      "29A 0 7552\n",
      "77A 1 7550\n",
      "007 1 3238\n",
      "007 1 3239\n",
      "007 1 3240\n",
      "161 0 2983\n",
      "185 1 4417\n",
      "185 1 4419\n",
      "185 1 4420\n",
      "185 1 4421\n",
      "185 1 2113\n",
      "185 0 4417\n",
      "185 0 4419\n",
      "185 0 4420\n",
      "185 0 4421\n",
      "185 0 2113\n",
      "061 1 2983\n",
      "061 0 2983\n",
      "063 1 3290\n",
      "063 1 5168\n",
      "063 1 3292\n",
      "063 1 3293\n",
      "063 1 3294\n",
      "063 1 3295\n",
      "063 1 3296\n",
      "063 1 3297\n",
      "063 1 3298\n",
      "063 1 3260\n",
      "063 1 3261\n",
      "063 0 3265\n",
      "063 0 3266\n",
      "063 0 3346\n",
      "063 0 3267\n",
      "063 0 3268\n",
      "063 0 3269\n",
      "063 0 3270\n",
      "063 0 3271\n",
      "063 0 3272\n",
      "063 0 3273\n",
      "063 0 3274\n",
      "063 0 3275\n",
      "015 1 7516\n",
      "65B 1 7550\n",
      "747 1 7465\n",
      "747 1 7466\n",
      "747 1 7467\n",
      "184 0 4656\n"
     ]
    }
   ],
   "source": [
    "alls = []\n",
    "for i in dicty:\n",
    "    for j in dicty[i]:\n",
    "        for k in range(len(dicty[i][j])):\n",
    "            if dicty[i][j][k] not in locations:\n",
    "                print(i, j, dicty[i][j][k])\n",
    "                alls += [dicty[i][j][k]]"
   ]
  },
  {
   "cell_type": "code",
   "execution_count": 30,
   "metadata": {
    "collapsed": false
   },
   "outputs": [
    {
     "data": {
      "text/plain": [
       "['6087',\n",
       " '3415',\n",
       " '7551',\n",
       " '4800',\n",
       " '5157',\n",
       " '5154',\n",
       " '4804',\n",
       " '5160',\n",
       " '5155',\n",
       " '4806',\n",
       " '5156',\n",
       " '7552',\n",
       " '7550',\n",
       " '3238',\n",
       " '3239',\n",
       " '3240',\n",
       " '2983',\n",
       " '4417',\n",
       " '4419',\n",
       " '4420',\n",
       " '4421',\n",
       " '2113',\n",
       " '4417',\n",
       " '4419',\n",
       " '4420',\n",
       " '4421',\n",
       " '2113',\n",
       " '2983',\n",
       " '2983',\n",
       " '3290',\n",
       " '5168',\n",
       " '3292',\n",
       " '3293',\n",
       " '3294',\n",
       " '3295',\n",
       " '3296',\n",
       " '3297',\n",
       " '3298',\n",
       " '3260',\n",
       " '3261',\n",
       " '3265',\n",
       " '3266',\n",
       " '3346',\n",
       " '3267',\n",
       " '3268',\n",
       " '3269',\n",
       " '3270',\n",
       " '3271',\n",
       " '3272',\n",
       " '3273',\n",
       " '3274',\n",
       " '3275',\n",
       " '7516',\n",
       " '7550',\n",
       " '7465',\n",
       " '7466',\n",
       " '7467',\n",
       " '4656']"
      ]
     },
     "execution_count": 30,
     "metadata": {},
     "output_type": "execute_result"
    }
   ],
   "source": [
    "alls"
   ]
  },
  {
   "cell_type": "code",
   "execution_count": 31,
   "metadata": {
    "collapsed": false
   },
   "outputs": [
    {
     "data": {
      "text/plain": [
       "{'errorcode': '0',\n",
       " 'errormessage': '',\n",
       " 'numberofresults': 1,\n",
       " 'results': [{'displaystopid': '4656',\n",
       "   'fullname': 'Newtownmountkennedy',\n",
       "   'fullnamelocalized': '',\n",
       "   'lastupdated': '24/07/2017 10:33:48',\n",
       "   'latitude': '53.07948694',\n",
       "   'longitude': '-6.100446944',\n",
       "   'operators': [{'name': 'bac', 'routes': ['184']}],\n",
       "   'shortname': 'Newtownmountkennedy',\n",
       "   'shortnamelocalized': 'Baile an Chinnéidig',\n",
       "   'stopid': '4656'}],\n",
       " 'timestamp': '09/08/2017 12:14:05'}"
      ]
     },
     "execution_count": 31,
     "metadata": {},
     "output_type": "execute_result"
    }
   ],
   "source": [
    "import requests\n",
    "url = 'https://data.dublinked.ie/cgi-bin/rtpi/busstopinformation?stopid='+\"4656\"+'&format=json'\n",
    "response = requests.get(url)\n",
    "result = response.json()\n",
    "result"
   ]
  },
  {
   "cell_type": "code",
   "execution_count": 32,
   "metadata": {
    "collapsed": false
   },
   "outputs": [
    {
     "name": "stdout",
     "output_type": "stream",
     "text": [
      "6087\n",
      "3415\n",
      "7551\n",
      "4800\n",
      "5157\n",
      "5154\n",
      "4804\n",
      "5160\n",
      "5155\n",
      "4806\n",
      "5156\n",
      "7552\n",
      "7550\n",
      "3238\n",
      "3239\n",
      "3240\n",
      "2983\n",
      "4417\n",
      "4419\n",
      "4420\n",
      "4421\n",
      "2113\n",
      "4417\n",
      "4419\n",
      "4420\n",
      "4421\n",
      "2113\n",
      "2983\n",
      "2983\n",
      "3290\n",
      "5168\n",
      "3292\n",
      "3293\n",
      "3294\n",
      "3295\n",
      "3296\n",
      "3297\n",
      "3298\n",
      "3260\n",
      "3261\n",
      "3265\n",
      "3266\n",
      "3346\n",
      "3267\n",
      "3268\n",
      "3269\n",
      "3270\n",
      "3271\n",
      "3272\n",
      "3273\n",
      "3274\n",
      "3275\n",
      "7516\n",
      "7550\n",
      "7465\n",
      "no luck\n",
      "7466\n",
      "no luck\n",
      "7467\n",
      "no luck\n",
      "4656\n"
     ]
    }
   ],
   "source": [
    "for i in alls:\n",
    "    print(i)\n",
    "    url = 'https://data.dublinked.ie/cgi-bin/rtpi/busstopinformation?stopid='+i+'&format=json'\n",
    "    response = requests.get(url)\n",
    "    result = response.json()\n",
    "    if len(result['results']) > 0:\n",
    "        locations[i] = {}\n",
    "        locations[i]['name'] = result['results'][0]['fullname']\n",
    "        locations[i]['Lat'] = result['results'][0]['latitude']\n",
    "        locations[i]['Lon'] = result['results'][0]['longitude']\n",
    "    else:\n",
    "        print(\"no luck\")\n"
   ]
  },
  {
   "cell_type": "code",
   "execution_count": 24,
   "metadata": {
    "collapsed": false
   },
   "outputs": [
    {
     "ename": "AttributeError",
     "evalue": "'NoneType' object has no attribute 'remove'",
     "output_type": "error",
     "traceback": [
      "\u001b[0;31m---------------------------------------------------------------------------\u001b[0m",
      "\u001b[0;31mAttributeError\u001b[0m                            Traceback (most recent call last)",
      "\u001b[0;32m<ipython-input-24-daef34b03d3c>\u001b[0m in \u001b[0;36m<module>\u001b[0;34m()\u001b[0m\n\u001b[1;32m      1\u001b[0m \u001b[1;32mfor\u001b[0m \u001b[0mi\u001b[0m \u001b[1;32min\u001b[0m \u001b[1;33m[\u001b[0m\u001b[1;34m'7466'\u001b[0m\u001b[1;33m,\u001b[0m\u001b[1;34m'7465'\u001b[0m\u001b[1;33m,\u001b[0m\u001b[1;34m'7467'\u001b[0m\u001b[1;33m]\u001b[0m\u001b[1;33m:\u001b[0m\u001b[1;33m\u001b[0m\u001b[0m\n\u001b[0;32m----> 2\u001b[0;31m     \u001b[0malls\u001b[0m \u001b[1;33m=\u001b[0m \u001b[0malls\u001b[0m\u001b[1;33m.\u001b[0m\u001b[0mremove\u001b[0m\u001b[1;33m(\u001b[0m\u001b[0mi\u001b[0m\u001b[1;33m)\u001b[0m\u001b[1;33m\u001b[0m\u001b[0m\n\u001b[0m",
      "\u001b[0;31mAttributeError\u001b[0m: 'NoneType' object has no attribute 'remove'"
     ]
    }
   ],
   "source": [
    "for i in ['7466','7465','7467']:\n",
    "    alls = alls.remove(i)"
   ]
  },
  {
   "cell_type": "code",
   "execution_count": 33,
   "metadata": {
    "collapsed": false
   },
   "outputs": [
    {
     "data": {
      "text/plain": [
       "['6087',\n",
       " '3415',\n",
       " '7551',\n",
       " '4800',\n",
       " '5157',\n",
       " '5154',\n",
       " '4804',\n",
       " '5160',\n",
       " '5155',\n",
       " '4806',\n",
       " '5156',\n",
       " '7552',\n",
       " '7550',\n",
       " '3238',\n",
       " '3239',\n",
       " '3240',\n",
       " '2983',\n",
       " '4417',\n",
       " '4419',\n",
       " '4420',\n",
       " '4421',\n",
       " '2113',\n",
       " '4417',\n",
       " '4419',\n",
       " '4420',\n",
       " '4421',\n",
       " '2113',\n",
       " '2983',\n",
       " '2983',\n",
       " '3290',\n",
       " '5168',\n",
       " '3292',\n",
       " '3293',\n",
       " '3294',\n",
       " '3295',\n",
       " '3296',\n",
       " '3297',\n",
       " '3298',\n",
       " '3260',\n",
       " '3261',\n",
       " '3265',\n",
       " '3266',\n",
       " '3346',\n",
       " '3267',\n",
       " '3268',\n",
       " '3269',\n",
       " '3270',\n",
       " '3271',\n",
       " '3272',\n",
       " '3273',\n",
       " '3274',\n",
       " '3275',\n",
       " '7516',\n",
       " '7550',\n",
       " '7465',\n",
       " '7466',\n",
       " '7467',\n",
       " '4656']"
      ]
     },
     "execution_count": 33,
     "metadata": {},
     "output_type": "execute_result"
    }
   ],
   "source": [
    "alls"
   ]
  },
  {
   "cell_type": "code",
   "execution_count": 35,
   "metadata": {
    "collapsed": true
   },
   "outputs": [],
   "source": [
    "with open('new lats and longs.json', 'w') as fp:\n",
    "    json.dump(locations, fp)"
   ]
  },
  {
   "cell_type": "code",
   "execution_count": null,
   "metadata": {
    "collapsed": true
   },
   "outputs": [],
   "source": []
  }
 ],
 "metadata": {
  "anaconda-cloud": {},
  "kernelspec": {
   "display_name": "Python [conda root]",
   "language": "python",
   "name": "conda-root-py"
  },
  "language_info": {
   "codemirror_mode": {
    "name": "ipython",
    "version": 3
   },
   "file_extension": ".py",
   "mimetype": "text/x-python",
   "name": "python",
   "nbconvert_exporter": "python",
   "pygments_lexer": "ipython3",
   "version": "3.5.2"
  }
 },
 "nbformat": 4,
 "nbformat_minor": 1
}
